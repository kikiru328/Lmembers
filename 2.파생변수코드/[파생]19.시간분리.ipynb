{
  "cells": [
    {
      "cell_type": "markdown",
      "metadata": {},
      "source": [
        "#### Introduction  \n",
        ">시간 분리 오전 오후"
      ]
    },
    {
      "cell_type": "code",
      "execution_count": null,
      "metadata": {
        "colab": {
          "base_uri": "https://localhost:8080/"
        },
        "id": "jypRGsZcfwMi",
        "outputId": "0d2375fe-78ee-4a27-b2eb-97206c2e8873"
      },
      "outputs": [
        {
          "name": "stdout",
          "output_type": "stream",
          "text": [
            "Mounted at /content/drive\n"
          ]
        }
      ],
      "source": [
        "import os, sys\n",
        "from google.colab import drive\n",
        "drive.mount('/content/drive')\n",
        "my_path = '/content/notebooks'\n",
        "os.symlink('/content/drive/My Drive/Colab Notebooks', my_path)\n",
        "sys.path.insert(0,my_path)"
      ]
    },
    {
      "cell_type": "code",
      "execution_count": null,
      "metadata": {
        "colab": {
          "base_uri": "https://localhost:8080/"
        },
        "id": "HOQNuec5gFUQ",
        "outputId": "10503073-ee40-4f59-b31d-afea0868767f"
      },
      "outputs": [
        {
          "name": "stdout",
          "output_type": "stream",
          "text": [
            "Reading package lists... Done\n",
            "Building dependency tree       \n",
            "Reading state information... Done\n",
            "The following NEW packages will be installed:\n",
            "  fonts-nanum\n",
            "0 upgraded, 1 newly installed, 0 to remove and 37 not upgraded.\n",
            "Need to get 9,604 kB of archives.\n",
            "After this operation, 29.5 MB of additional disk space will be used.\n",
            "Get:1 http://archive.ubuntu.com/ubuntu bionic/universe amd64 fonts-nanum all 20170925-1 [9,604 kB]\n",
            "Fetched 9,604 kB in 1s (8,434 kB/s)\n",
            "debconf: unable to initialize frontend: Dialog\n",
            "debconf: (No usable dialog-like program is installed, so the dialog based frontend cannot be used. at /usr/share/perl5/Debconf/FrontEnd/Dialog.pm line 76, <> line 1.)\n",
            "debconf: falling back to frontend: Readline\n",
            "debconf: unable to initialize frontend: Readline\n",
            "debconf: (This frontend requires a controlling tty.)\n",
            "debconf: falling back to frontend: Teletype\n",
            "dpkg-preconfigure: unable to re-open stdin: \n",
            "Selecting previously unselected package fonts-nanum.\n",
            "(Reading database ... 155013 files and directories currently installed.)\n",
            "Preparing to unpack .../fonts-nanum_20170925-1_all.deb ...\n",
            "Unpacking fonts-nanum (20170925-1) ...\n",
            "Setting up fonts-nanum (20170925-1) ...\n",
            "Processing triggers for fontconfig (2.12.6-0ubuntu2) ...\n",
            "/usr/share/fonts: caching, new cache contents: 0 fonts, 1 dirs\n",
            "/usr/share/fonts/truetype: caching, new cache contents: 0 fonts, 3 dirs\n",
            "/usr/share/fonts/truetype/humor-sans: caching, new cache contents: 1 fonts, 0 dirs\n",
            "/usr/share/fonts/truetype/liberation: caching, new cache contents: 16 fonts, 0 dirs\n",
            "/usr/share/fonts/truetype/nanum: caching, new cache contents: 10 fonts, 0 dirs\n",
            "/usr/local/share/fonts: caching, new cache contents: 0 fonts, 0 dirs\n",
            "/root/.local/share/fonts: skipping, no such directory\n",
            "/root/.fonts: skipping, no such directory\n",
            "/var/cache/fontconfig: cleaning cache directory\n",
            "/root/.cache/fontconfig: not cleaning non-existent cache directory\n",
            "/root/.fontconfig: not cleaning non-existent cache directory\n",
            "fc-cache: succeeded\n"
          ]
        }
      ],
      "source": [
        "# 한글폰트\n",
        "!sudo apt-get install -y fonts-nanum\n",
        "!sudo fc-cache -fv\n",
        "!rm ~/.cache/matplotlib -rf"
      ]
    },
    {
      "cell_type": "code",
      "execution_count": null,
      "metadata": {
        "colab": {
          "base_uri": "https://localhost:8080/"
        },
        "id": "mjpdLVxlgOSw",
        "outputId": "db751b84-58cf-46d1-84b1-da04dae74afe"
      },
      "outputs": [
        {
          "name": "stdout",
          "output_type": "stream",
          "text": [
            "/content/drive/My Drive/Colab Notebooks\n"
          ]
        }
      ],
      "source": [
        "%pwd\n",
        "%cd '../content/notebooks'\n",
        "\n",
        "# module import\n",
        "## Data Load\n",
        "from pickle5 import pickle \n",
        "\n",
        "## Basic module\n",
        "import pandas as pd\n",
        "import numpy as np\n",
        "import datetime as dt\n",
        "import seaborn as sns\n",
        "import matplotlib.pyplot as plt\n",
        "plt.rc('font', family='NanumBarunGothic')"
      ]
    },
    {
      "cell_type": "code",
      "execution_count": null,
      "metadata": {
        "id": "2DwTubZKgUqs"
      },
      "outputs": [],
      "source": [
        "# # pickle data load\n",
        "# # load\n",
        "# with open('dir/file.pkl', 'rb') as file:\n",
        "#   df = pickle.load(file)\n",
        "# # save\n",
        "# with open('dir/파일명.pkl', 'wb') as file:\n",
        "#   pickle.dump(저장할데이터변수, file)"
      ]
    },
    {
      "cell_type": "code",
      "execution_count": null,
      "metadata": {
        "id": "57cFJml0gWWQ"
      },
      "outputs": [],
      "source": [
        "with open('/content/drive/MyDrive/공유문서/1차 프로젝트/5조/data/사용해야되는 기준 pkl 파일들/dt변환년도포함구매.pkl','rb') as file:\n",
        "  time = pickle.load(file)"
      ]
    },
    {
      "cell_type": "code",
      "execution_count": null,
      "metadata": {
        "id": "tiQuY_iKhZiT"
      },
      "outputs": [],
      "source": [
        "def apm(x):\n",
        "  if x < 12:\n",
        "    x = '오전'\n",
        "  elif x >= 12:\n",
        "    x = '오후'\n",
        "  return x"
      ]
    },
    {
      "cell_type": "code",
      "execution_count": null,
      "metadata": {
        "id": "ymE363mdy8Nz"
      },
      "outputs": [],
      "source": [
        "time['오전오후'] = time['구매시간'].apply(apm)\n",
        "# time['오후'] = time['구매시간'].apply(pm)"
      ]
    },
    {
      "cell_type": "code",
      "execution_count": null,
      "metadata": {
        "id": "8vF6_ALp7Cep"
      },
      "outputs": [],
      "source": [
        "dum = pd.get_dummies(time['오전오후'])"
      ]
    },
    {
      "cell_type": "code",
      "execution_count": null,
      "metadata": {
        "id": "RF6yBQWj7_jw"
      },
      "outputs": [],
      "source": [
        "time= pd.concat([time,dum],axis=1)"
      ]
    },
    {
      "cell_type": "code",
      "execution_count": null,
      "metadata": {
        "id": "woawGUAO8Q-X"
      },
      "outputs": [],
      "source": [
        "with open('/content/drive/MyDrive/공유문서/1차 프로젝트/5조/data/사용해야되는 기준 pkl 파일들/DT_구매_APM.pkl','wb') as file:\n",
        "  pickle.dump(time,file)"
      ]
    },
    {
      "cell_type": "code",
      "execution_count": null,
      "metadata": {
        "id": "wDRnY3Wt4sgB"
      },
      "outputs": [],
      "source": [
        "def am(x):\n",
        "  if x == '오전':\n",
        "    x = 1\n",
        "  else:\n",
        "    x = 0\n",
        "  return x\n",
        "\n",
        "def pm(x):\n",
        "  if x == '오후':\n",
        "    x = 1 \n",
        "  else:\n",
        "    x = 0 \n",
        "  return x "
      ]
    },
    {
      "cell_type": "code",
      "execution_count": null,
      "metadata": {
        "id": "q-hDGmxH5KRL"
      },
      "outputs": [],
      "source": [
        "time['오전'] = time['오전오후'].apply(am)\n",
        "time['오후'] = time['오전오후'].apply(pm)"
      ]
    },
    {
      "cell_type": "code",
      "execution_count": null,
      "metadata": {
        "colab": {
          "base_uri": "https://localhost:8080/",
          "height": 422
        },
        "id": "MbPRFazU5-51",
        "outputId": "9facbdf2-4d75-4f62-9084-47306dd2059e"
      },
      "outputs": [
        {
          "data": {
            "text/html": [
              "<div>\n",
              "<style scoped>\n",
              "    .dataframe tbody tr th:only-of-type {\n",
              "        vertical-align: middle;\n",
              "    }\n",
              "\n",
              "    .dataframe tbody tr th {\n",
              "        vertical-align: top;\n",
              "    }\n",
              "\n",
              "    .dataframe thead th {\n",
              "        text-align: right;\n",
              "    }\n",
              "</style>\n",
              "<table border=\"1\" class=\"dataframe\">\n",
              "  <thead>\n",
              "    <tr style=\"text-align: right;\">\n",
              "      <th></th>\n",
              "      <th>제휴사</th>\n",
              "      <th>영수증번호</th>\n",
              "      <th>고객번호</th>\n",
              "      <th>점포코드</th>\n",
              "      <th>구매일자</th>\n",
              "      <th>구매시간</th>\n",
              "      <th>구매금액</th>\n",
              "      <th>구매월</th>\n",
              "      <th>대분류코드</th>\n",
              "      <th>중분류코드</th>\n",
              "      <th>소분류코드</th>\n",
              "      <th>대분류명</th>\n",
              "      <th>중분류명</th>\n",
              "      <th>소분류명</th>\n",
              "      <th>구매년도</th>\n",
              "      <th>오전오후</th>\n",
              "      <th>오전</th>\n",
              "      <th>오후</th>\n",
              "    </tr>\n",
              "  </thead>\n",
              "  <tbody>\n",
              "    <tr>\n",
              "      <th>91</th>\n",
              "      <td>A</td>\n",
              "      <td>1254650</td>\n",
              "      <td>8036</td>\n",
              "      <td>31</td>\n",
              "      <td>2014-01-20</td>\n",
              "      <td>10</td>\n",
              "      <td>8000</td>\n",
              "      <td>1</td>\n",
              "      <td>1</td>\n",
              "      <td>103</td>\n",
              "      <td>A010302</td>\n",
              "      <td>식품</td>\n",
              "      <td>축산가공</td>\n",
              "      <td>유제품</td>\n",
              "      <td>2014</td>\n",
              "      <td>오전</td>\n",
              "      <td>1</td>\n",
              "      <td>0</td>\n",
              "    </tr>\n",
              "    <tr>\n",
              "      <th>92</th>\n",
              "      <td>A</td>\n",
              "      <td>1254651</td>\n",
              "      <td>9381</td>\n",
              "      <td>31</td>\n",
              "      <td>2014-01-20</td>\n",
              "      <td>11</td>\n",
              "      <td>1200</td>\n",
              "      <td>1</td>\n",
              "      <td>1</td>\n",
              "      <td>103</td>\n",
              "      <td>A010301</td>\n",
              "      <td>식품</td>\n",
              "      <td>축산가공</td>\n",
              "      <td>햄</td>\n",
              "      <td>2014</td>\n",
              "      <td>오전</td>\n",
              "      <td>1</td>\n",
              "      <td>0</td>\n",
              "    </tr>\n",
              "    <tr>\n",
              "      <th>93</th>\n",
              "      <td>A</td>\n",
              "      <td>1254651</td>\n",
              "      <td>9381</td>\n",
              "      <td>31</td>\n",
              "      <td>2014-01-20</td>\n",
              "      <td>11</td>\n",
              "      <td>2680</td>\n",
              "      <td>1</td>\n",
              "      <td>1</td>\n",
              "      <td>106</td>\n",
              "      <td>A010608</td>\n",
              "      <td>식품</td>\n",
              "      <td>가공식품</td>\n",
              "      <td>일반가공식품</td>\n",
              "      <td>2014</td>\n",
              "      <td>오전</td>\n",
              "      <td>1</td>\n",
              "      <td>0</td>\n",
              "    </tr>\n",
              "    <tr>\n",
              "      <th>94</th>\n",
              "      <td>A</td>\n",
              "      <td>1254651</td>\n",
              "      <td>9381</td>\n",
              "      <td>31</td>\n",
              "      <td>2014-01-20</td>\n",
              "      <td>11</td>\n",
              "      <td>7000</td>\n",
              "      <td>1</td>\n",
              "      <td>1</td>\n",
              "      <td>110</td>\n",
              "      <td>A011004</td>\n",
              "      <td>식품</td>\n",
              "      <td>차/커피</td>\n",
              "      <td>수입식품</td>\n",
              "      <td>2014</td>\n",
              "      <td>오전</td>\n",
              "      <td>1</td>\n",
              "      <td>0</td>\n",
              "    </tr>\n",
              "    <tr>\n",
              "      <th>163</th>\n",
              "      <td>A</td>\n",
              "      <td>1294606</td>\n",
              "      <td>53</td>\n",
              "      <td>1</td>\n",
              "      <td>2014-01-28</td>\n",
              "      <td>10</td>\n",
              "      <td>26600</td>\n",
              "      <td>1</td>\n",
              "      <td>2</td>\n",
              "      <td>206</td>\n",
              "      <td>A020603</td>\n",
              "      <td>패션잡화</td>\n",
              "      <td>피혁잡화</td>\n",
              "      <td>가방</td>\n",
              "      <td>2014</td>\n",
              "      <td>오전</td>\n",
              "      <td>1</td>\n",
              "      <td>0</td>\n",
              "    </tr>\n",
              "    <tr>\n",
              "      <th>...</th>\n",
              "      <td>...</td>\n",
              "      <td>...</td>\n",
              "      <td>...</td>\n",
              "      <td>...</td>\n",
              "      <td>...</td>\n",
              "      <td>...</td>\n",
              "      <td>...</td>\n",
              "      <td>...</td>\n",
              "      <td>...</td>\n",
              "      <td>...</td>\n",
              "      <td>...</td>\n",
              "      <td>...</td>\n",
              "      <td>...</td>\n",
              "      <td>...</td>\n",
              "      <td>...</td>\n",
              "      <td>...</td>\n",
              "      <td>...</td>\n",
              "      <td>...</td>\n",
              "    </tr>\n",
              "    <tr>\n",
              "      <th>28592964</th>\n",
              "      <td>D</td>\n",
              "      <td>253804</td>\n",
              "      <td>15835</td>\n",
              "      <td>40</td>\n",
              "      <td>2015-10-09</td>\n",
              "      <td>11</td>\n",
              "      <td>1500</td>\n",
              "      <td>22</td>\n",
              "      <td>56</td>\n",
              "      <td>402</td>\n",
              "      <td>D040210</td>\n",
              "      <td>간식</td>\n",
              "      <td>음료</td>\n",
              "      <td>과일음료</td>\n",
              "      <td>2015</td>\n",
              "      <td>오전</td>\n",
              "      <td>1</td>\n",
              "      <td>0</td>\n",
              "    </tr>\n",
              "    <tr>\n",
              "      <th>28592965</th>\n",
              "      <td>D</td>\n",
              "      <td>253804</td>\n",
              "      <td>15835</td>\n",
              "      <td>40</td>\n",
              "      <td>2015-10-09</td>\n",
              "      <td>11</td>\n",
              "      <td>1300</td>\n",
              "      <td>22</td>\n",
              "      <td>56</td>\n",
              "      <td>402</td>\n",
              "      <td>D040215</td>\n",
              "      <td>간식</td>\n",
              "      <td>음료</td>\n",
              "      <td>커피음료</td>\n",
              "      <td>2015</td>\n",
              "      <td>오전</td>\n",
              "      <td>1</td>\n",
              "      <td>0</td>\n",
              "    </tr>\n",
              "    <tr>\n",
              "      <th>28593009</th>\n",
              "      <td>D</td>\n",
              "      <td>253830</td>\n",
              "      <td>15835</td>\n",
              "      <td>40</td>\n",
              "      <td>2015-10-22</td>\n",
              "      <td>9</td>\n",
              "      <td>2000</td>\n",
              "      <td>22</td>\n",
              "      <td>56</td>\n",
              "      <td>402</td>\n",
              "      <td>D040210</td>\n",
              "      <td>간식</td>\n",
              "      <td>음료</td>\n",
              "      <td>과일음료</td>\n",
              "      <td>2015</td>\n",
              "      <td>오전</td>\n",
              "      <td>1</td>\n",
              "      <td>0</td>\n",
              "    </tr>\n",
              "    <tr>\n",
              "      <th>28593021</th>\n",
              "      <td>D</td>\n",
              "      <td>253836</td>\n",
              "      <td>16992</td>\n",
              "      <td>40</td>\n",
              "      <td>2015-10-24</td>\n",
              "      <td>9</td>\n",
              "      <td>2000</td>\n",
              "      <td>22</td>\n",
              "      <td>56</td>\n",
              "      <td>402</td>\n",
              "      <td>D040210</td>\n",
              "      <td>간식</td>\n",
              "      <td>음료</td>\n",
              "      <td>과일음료</td>\n",
              "      <td>2015</td>\n",
              "      <td>오전</td>\n",
              "      <td>1</td>\n",
              "      <td>0</td>\n",
              "    </tr>\n",
              "    <tr>\n",
              "      <th>28593022</th>\n",
              "      <td>D</td>\n",
              "      <td>253837</td>\n",
              "      <td>16992</td>\n",
              "      <td>40</td>\n",
              "      <td>2015-10-24</td>\n",
              "      <td>10</td>\n",
              "      <td>1000</td>\n",
              "      <td>22</td>\n",
              "      <td>56</td>\n",
              "      <td>401</td>\n",
              "      <td>D040105</td>\n",
              "      <td>간식</td>\n",
              "      <td>과자</td>\n",
              "      <td>일반껌</td>\n",
              "      <td>2015</td>\n",
              "      <td>오전</td>\n",
              "      <td>1</td>\n",
              "      <td>0</td>\n",
              "    </tr>\n",
              "  </tbody>\n",
              "</table>\n",
              "<p>2257766 rows × 18 columns</p>\n",
              "</div>"
            ],
            "text/plain": [
              "         제휴사    영수증번호   고객번호  점포코드       구매일자  ...    소분류명  구매년도  오전오후  오전  오후\n",
              "91         A  1254650   8036    31 2014-01-20  ...     유제품  2014    오전   1   0\n",
              "92         A  1254651   9381    31 2014-01-20  ...       햄  2014    오전   1   0\n",
              "93         A  1254651   9381    31 2014-01-20  ...  일반가공식품  2014    오전   1   0\n",
              "94         A  1254651   9381    31 2014-01-20  ...    수입식품  2014    오전   1   0\n",
              "163        A  1294606     53     1 2014-01-28  ...      가방  2014    오전   1   0\n",
              "...       ..      ...    ...   ...        ...  ...     ...   ...   ...  ..  ..\n",
              "28592964   D   253804  15835    40 2015-10-09  ...    과일음료  2015    오전   1   0\n",
              "28592965   D   253804  15835    40 2015-10-09  ...    커피음료  2015    오전   1   0\n",
              "28593009   D   253830  15835    40 2015-10-22  ...    과일음료  2015    오전   1   0\n",
              "28593021   D   253836  16992    40 2015-10-24  ...    과일음료  2015    오전   1   0\n",
              "28593022   D   253837  16992    40 2015-10-24  ...     일반껌  2015    오전   1   0\n",
              "\n",
              "[2257766 rows x 18 columns]"
            ]
          },
          "execution_count": 23,
          "metadata": {},
          "output_type": "execute_result"
        }
      ],
      "source": [
        "time[time['오전']==1]"
      ]
    },
    {
      "cell_type": "code",
      "execution_count": null,
      "metadata": {
        "id": "GgO2hLfq6I9u"
      },
      "outputs": [],
      "source": []
    }
  ],
  "metadata": {
    "colab": {
      "name": "오전오후.ipynb",
      "provenance": []
    },
    "kernelspec": {
      "display_name": "Python 3",
      "name": "python3"
    },
    "language_info": {
      "name": "python"
    }
  },
  "nbformat": 4,
  "nbformat_minor": 0
}
