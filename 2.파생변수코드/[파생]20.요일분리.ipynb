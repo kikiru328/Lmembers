{
  "cells": [
    {
      "cell_type": "markdown",
      "metadata": {
        "colab_type": "text",
        "id": "view-in-github"
      },
      "source": [
        "<a href=\"https://colab.research.google.com/github/kikiru328/enterprise_analysis/blob/main/%ED%8F%89%EC%9D%BC_%ED%9C%B4%EC%9D%BC_1.ipynb\" target=\"_parent\"><img src=\"https://colab.research.google.com/assets/colab-badge.svg\" alt=\"Open In Colab\"/></a>"
      ]
    },
    {
      "cell_type": "markdown",
      "metadata": {},
      "source": [
        "#### Introduction  \n",
        ">요일 분리"
      ]
    },
    {
      "cell_type": "code",
      "execution_count": null,
      "metadata": {
        "colab": {
          "base_uri": "https://localhost:8080/"
        },
        "id": "QKJKzdlOH3uM",
        "outputId": "1c188647-0edd-490b-b559-d52ae89d8265"
      },
      "outputs": [
        {
          "name": "stdout",
          "output_type": "stream",
          "text": [
            "Mounted at /content/drive\n",
            "Reading package lists... Done\n",
            "Building dependency tree       \n",
            "Reading state information... Done\n",
            "The following NEW packages will be installed:\n",
            "  fonts-nanum\n",
            "0 upgraded, 1 newly installed, 0 to remove and 37 not upgraded.\n",
            "Need to get 9,604 kB of archives.\n",
            "After this operation, 29.5 MB of additional disk space will be used.\n",
            "Get:1 http://archive.ubuntu.com/ubuntu bionic/universe amd64 fonts-nanum all 20170925-1 [9,604 kB]\n",
            "Fetched 9,604 kB in 1s (8,647 kB/s)\n",
            "debconf: unable to initialize frontend: Dialog\n",
            "debconf: (No usable dialog-like program is installed, so the dialog based frontend cannot be used. at /usr/share/perl5/Debconf/FrontEnd/Dialog.pm line 76, <> line 1.)\n",
            "debconf: falling back to frontend: Readline\n",
            "debconf: unable to initialize frontend: Readline\n",
            "debconf: (This frontend requires a controlling tty.)\n",
            "debconf: falling back to frontend: Teletype\n",
            "dpkg-preconfigure: unable to re-open stdin: \n",
            "Selecting previously unselected package fonts-nanum.\n",
            "(Reading database ... 155013 files and directories currently installed.)\n",
            "Preparing to unpack .../fonts-nanum_20170925-1_all.deb ...\n",
            "Unpacking fonts-nanum (20170925-1) ...\n",
            "Setting up fonts-nanum (20170925-1) ...\n",
            "Processing triggers for fontconfig (2.12.6-0ubuntu2) ...\n",
            "/usr/share/fonts: caching, new cache contents: 0 fonts, 1 dirs\n",
            "/usr/share/fonts/truetype: caching, new cache contents: 0 fonts, 3 dirs\n",
            "/usr/share/fonts/truetype/humor-sans: caching, new cache contents: 1 fonts, 0 dirs\n",
            "/usr/share/fonts/truetype/liberation: caching, new cache contents: 16 fonts, 0 dirs\n",
            "/usr/share/fonts/truetype/nanum: caching, new cache contents: 10 fonts, 0 dirs\n",
            "/usr/local/share/fonts: caching, new cache contents: 0 fonts, 0 dirs\n",
            "/root/.local/share/fonts: skipping, no such directory\n",
            "/root/.fonts: skipping, no such directory\n",
            "/var/cache/fontconfig: cleaning cache directory\n",
            "/root/.cache/fontconfig: not cleaning non-existent cache directory\n",
            "/root/.fontconfig: not cleaning non-existent cache directory\n",
            "fc-cache: succeeded\n"
          ]
        }
      ],
      "source": [
        "# colab drive mount\n",
        "\n",
        "import os, sys\n",
        "from google.colab import drive\n",
        "drive.mount('/content/drive')\n",
        "my_path = '/content/notebooks'\n",
        "os.symlink('/content/drive/My Drive/Colab Notebooks', my_path)\n",
        "sys.path.insert(0,my_path)\n",
        "\n",
        "# 한글폰트\n",
        "!sudo apt-get install -y fonts-nanum\n",
        "!sudo fc-cache -fv\n",
        "!rm ~/.cache/matplotlib -rf\n",
        "## 돌리고 런타임 재시작\n",
        "## 드라이브 마운트, 한글폰트설치코드 제외 셀 실행\n",
        "\n"
      ]
    },
    {
      "cell_type": "code",
      "execution_count": null,
      "metadata": {
        "colab": {
          "base_uri": "https://localhost:8080/"
        },
        "id": "74Y1mLJ0IsOZ",
        "outputId": "6d3630bd-d188-447e-92ef-d5b921b4cd8a"
      },
      "outputs": [
        {
          "name": "stdout",
          "output_type": "stream",
          "text": [
            "/content/drive/My Drive/Colab Notebooks\n"
          ]
        }
      ],
      "source": [
        "# Directory 변경 (모듈이용)\n",
        "%pwd\n",
        "%cd '../content/notebooks'\n",
        "# module import\n",
        "## Data Load\n",
        "from pickle5 import pickle \n",
        "\n",
        "## Basic module\n",
        "import pandas as pd\n",
        "import numpy as np\n",
        "import datetime as dt\n",
        "import seaborn as sns\n",
        "import matplotlib.pyplot as plt\n",
        "plt.rc('font', family='NanumBarunGothic')"
      ]
    },
    {
      "cell_type": "code",
      "execution_count": null,
      "metadata": {
        "colab": {
          "base_uri": "https://localhost:8080/"
        },
        "id": "lFnJKiGsI5ee",
        "outputId": "a601a9b7-29f6-4dc2-85ed-951b8508d401"
      },
      "outputs": [
        {
          "name": "stdout",
          "output_type": "stream",
          "text": [
            "Requirement already satisfied: xmltodict in /usr/local/lib/python3.7/dist-packages (0.12.0)\n"
          ]
        }
      ],
      "source": [
        "import urllib.request as req\n",
        "from urllib.parse import unquote\n",
        "import requests\n",
        "from bs4 import BeautifulSoup as bs\n",
        "import json\n",
        "!pip install xmltodict\n",
        "import xmltodict"
      ]
    },
    {
      "cell_type": "code",
      "execution_count": null,
      "metadata": {
        "colab": {
          "base_uri": "https://localhost:8080/"
        },
        "id": "-wtkCVwu-zHy",
        "outputId": "e56f9752-3ba5-42e3-d810-977a1f227cd2"
      },
      "outputs": [
        {
          "name": "stdout",
          "output_type": "stream",
          "text": [
            "2014 04 공휴일없음\n",
            "2014 07 공휴일없음\n",
            "2014 11 공휴일없음\n",
            "2015 04 공휴일없음\n",
            "2015 07 공휴일없음\n",
            "2015 11 공휴일없음\n"
          ]
        },
        {
          "data": {
            "text/plain": [
              "['20140815',\n",
              " '20140908',\n",
              " '20140604',\n",
              " '20150219',\n",
              " '20150218',\n",
              " '20140301',\n",
              " '20141225',\n",
              " '20150505',\n",
              " '20150929',\n",
              " '20140201',\n",
              " '20150815',\n",
              " '20140131',\n",
              " '20150101',\n",
              " '20141009',\n",
              " '20140506',\n",
              " '20140909',\n",
              " '20140101',\n",
              " '20140505',\n",
              " '20150525',\n",
              " '20141003',\n",
              " '20150927',\n",
              " '20140606',\n",
              " '20150220',\n",
              " '20140130',\n",
              " '20151009',\n",
              " '20151225',\n",
              " '20150928',\n",
              " '20150926',\n",
              " '20150606',\n",
              " '20151003',\n",
              " '20140907',\n",
              " '20150301',\n",
              " '20140910']"
            ]
          },
          "execution_count": 3,
          "metadata": {},
          "output_type": "execute_result"
        }
      ],
      "source": [
        "holiday=[]\n",
        "years = ['2014','2015']\n",
        "months = ['01','02','03','04','05','06','07','08','09','10','11','12']\n",
        "for year in years:\n",
        "  for month in months:\n",
        "    url = 'http://apis.data.go.kr/B090041/openapi/service/SpcdeInfoService/getRestDeInfo?ServiceKey='\n",
        "    params = dict()\n",
        "    API_KEY = '0nvWRjDWerwQGQ7dGwJhCm%2FxEkkbYBiWQXfnf%2BJkkO3dkoTpaGvyy44heAG1hY%2BjV7ZQxbK0LlDdoeer2yORHw%3D%3D'\n",
        "    KEY = unquote(API_KEY)\n",
        "    params['serviceKey'] = KEY\n",
        "    params['solYear'] = year\n",
        "    params['solMonth'] = month\n",
        "    params['numOfRows'] = '1000'\n",
        "    response = requests.get(url,params = params)\n",
        "    html = response.text\n",
        "    dicts = xmltodict.parse(html)\n",
        "    json_obj = json.dumps(dicts)\n",
        "    dict_data =json.loads(json_obj)\n",
        "    try:\n",
        "      A = dict_data['response']['body']['items']['item']\n",
        "      for i in range(len(A)):\n",
        "        try:\n",
        "          date = A[i]['locdate']\n",
        "          holiday.append(date)\n",
        "        except KeyError:\n",
        "          date = A['locdate']\n",
        "          holiday.append(date)\n",
        "    except:\n",
        "      print(year,month,'공휴일없음')\n",
        "holiday = list(set(holiday))\n",
        "holiday"
      ]
    },
    {
      "cell_type": "code",
      "execution_count": null,
      "metadata": {
        "id": "Ay8vXs6K_7l-"
      },
      "outputs": [],
      "source": [
        "with open('/content/drive/MyDrive/공유문서/1차 프로젝트/5조/data/사용해야되는 기준 pkl 파일들/DT_구매_APM.pkl','rb') as file:\n",
        "  h = pickle.load(file)"
      ]
    },
    {
      "cell_type": "code",
      "execution_count": null,
      "metadata": {
        "id": "a4BIBZe-_-AI"
      },
      "outputs": [],
      "source": [
        "holiday = pd.to_datetime(holiday)"
      ]
    },
    {
      "cell_type": "code",
      "execution_count": null,
      "metadata": {
        "id": "E8WiJ3FsFXvG"
      },
      "outputs": [],
      "source": [
        "def holi(x):\n",
        "  if x in holiday:\n",
        "    x = '공휴일'\n",
        "  else:\n",
        "    x = '평일'\n",
        "  return x "
      ]
    },
    {
      "cell_type": "code",
      "execution_count": null,
      "metadata": {
        "id": "LqwUiW4cFx4U"
      },
      "outputs": [],
      "source": [
        "import warnings\n",
        "warnings.filterwarnings('ignore')"
      ]
    },
    {
      "cell_type": "code",
      "execution_count": null,
      "metadata": {
        "id": "tgWE0P6LF2N2"
      },
      "outputs": [],
      "source": [
        "h['공휴일'] = h['구매일자'].apply(holi)"
      ]
    },
    {
      "cell_type": "code",
      "execution_count": null,
      "metadata": {
        "id": "zPUPvzzJ0oR6"
      },
      "outputs": [],
      "source": [
        "with open(a,'wb') as file:\n",
        "  pickle.dump(h,file)"
      ]
    },
    {
      "cell_type": "code",
      "execution_count": null,
      "metadata": {
        "colab": {
          "base_uri": "https://localhost:8080/",
          "height": 697
        },
        "id": "CqbZMcJh9csR",
        "outputId": "bbef4e41-344a-4fc5-85da-5c8cd8c2aaf4"
      },
      "outputs": [
        {
          "data": {
            "text/html": [
              "<div>\n",
              "<style scoped>\n",
              "    .dataframe tbody tr th:only-of-type {\n",
              "        vertical-align: middle;\n",
              "    }\n",
              "\n",
              "    .dataframe tbody tr th {\n",
              "        vertical-align: top;\n",
              "    }\n",
              "\n",
              "    .dataframe thead th {\n",
              "        text-align: right;\n",
              "    }\n",
              "</style>\n",
              "<table border=\"1\" class=\"dataframe\">\n",
              "  <thead>\n",
              "    <tr style=\"text-align: right;\">\n",
              "      <th></th>\n",
              "      <th>제휴사</th>\n",
              "      <th>영수증번호</th>\n",
              "      <th>고객번호</th>\n",
              "      <th>점포코드</th>\n",
              "      <th>구매일자</th>\n",
              "      <th>구매시간</th>\n",
              "      <th>구매금액</th>\n",
              "      <th>구매월</th>\n",
              "      <th>대분류코드</th>\n",
              "      <th>중분류코드</th>\n",
              "      <th>소분류코드</th>\n",
              "      <th>대분류명</th>\n",
              "      <th>중분류명</th>\n",
              "      <th>소분류명</th>\n",
              "      <th>구매년도</th>\n",
              "      <th>오전오후</th>\n",
              "      <th>오전</th>\n",
              "      <th>오후</th>\n",
              "      <th>공휴일</th>\n",
              "    </tr>\n",
              "  </thead>\n",
              "  <tbody>\n",
              "    <tr>\n",
              "      <th>0</th>\n",
              "      <td>A</td>\n",
              "      <td>2757986</td>\n",
              "      <td>15148</td>\n",
              "      <td>10</td>\n",
              "      <td>2014-09-20</td>\n",
              "      <td>20</td>\n",
              "      <td>1000</td>\n",
              "      <td>9</td>\n",
              "      <td>9</td>\n",
              "      <td>101</td>\n",
              "      <td>A010101</td>\n",
              "      <td>가구/인테리어</td>\n",
              "      <td>일용잡화</td>\n",
              "      <td>위생세제</td>\n",
              "      <td>2014</td>\n",
              "      <td>오후</td>\n",
              "      <td>0</td>\n",
              "      <td>1</td>\n",
              "      <td>평일</td>\n",
              "    </tr>\n",
              "    <tr>\n",
              "      <th>1</th>\n",
              "      <td>A</td>\n",
              "      <td>2757986</td>\n",
              "      <td>15148</td>\n",
              "      <td>10</td>\n",
              "      <td>2014-09-20</td>\n",
              "      <td>20</td>\n",
              "      <td>4100</td>\n",
              "      <td>9</td>\n",
              "      <td>1</td>\n",
              "      <td>106</td>\n",
              "      <td>A010608</td>\n",
              "      <td>식품</td>\n",
              "      <td>가공식품</td>\n",
              "      <td>일반가공식품</td>\n",
              "      <td>2014</td>\n",
              "      <td>오후</td>\n",
              "      <td>0</td>\n",
              "      <td>1</td>\n",
              "      <td>평일</td>\n",
              "    </tr>\n",
              "    <tr>\n",
              "      <th>2</th>\n",
              "      <td>A</td>\n",
              "      <td>2757987</td>\n",
              "      <td>400</td>\n",
              "      <td>10</td>\n",
              "      <td>2014-09-20</td>\n",
              "      <td>12</td>\n",
              "      <td>5000</td>\n",
              "      <td>9</td>\n",
              "      <td>1</td>\n",
              "      <td>104</td>\n",
              "      <td>A010402</td>\n",
              "      <td>식품</td>\n",
              "      <td>농산물</td>\n",
              "      <td>채소</td>\n",
              "      <td>2014</td>\n",
              "      <td>오후</td>\n",
              "      <td>0</td>\n",
              "      <td>1</td>\n",
              "      <td>평일</td>\n",
              "    </tr>\n",
              "    <tr>\n",
              "      <th>3</th>\n",
              "      <td>A</td>\n",
              "      <td>2757987</td>\n",
              "      <td>400</td>\n",
              "      <td>10</td>\n",
              "      <td>2014-09-20</td>\n",
              "      <td>12</td>\n",
              "      <td>10200</td>\n",
              "      <td>9</td>\n",
              "      <td>1</td>\n",
              "      <td>107</td>\n",
              "      <td>A010705</td>\n",
              "      <td>식품</td>\n",
              "      <td>젓갈/반찬</td>\n",
              "      <td>벌크김치</td>\n",
              "      <td>2014</td>\n",
              "      <td>오후</td>\n",
              "      <td>0</td>\n",
              "      <td>1</td>\n",
              "      <td>평일</td>\n",
              "    </tr>\n",
              "    <tr>\n",
              "      <th>4</th>\n",
              "      <td>A</td>\n",
              "      <td>2757988</td>\n",
              "      <td>2043</td>\n",
              "      <td>10</td>\n",
              "      <td>2014-09-20</td>\n",
              "      <td>13</td>\n",
              "      <td>3950</td>\n",
              "      <td>9</td>\n",
              "      <td>9</td>\n",
              "      <td>101</td>\n",
              "      <td>A010101</td>\n",
              "      <td>가구/인테리어</td>\n",
              "      <td>일용잡화</td>\n",
              "      <td>위생세제</td>\n",
              "      <td>2014</td>\n",
              "      <td>오후</td>\n",
              "      <td>0</td>\n",
              "      <td>1</td>\n",
              "      <td>평일</td>\n",
              "    </tr>\n",
              "    <tr>\n",
              "      <th>...</th>\n",
              "      <td>...</td>\n",
              "      <td>...</td>\n",
              "      <td>...</td>\n",
              "      <td>...</td>\n",
              "      <td>...</td>\n",
              "      <td>...</td>\n",
              "      <td>...</td>\n",
              "      <td>...</td>\n",
              "      <td>...</td>\n",
              "      <td>...</td>\n",
              "      <td>...</td>\n",
              "      <td>...</td>\n",
              "      <td>...</td>\n",
              "      <td>...</td>\n",
              "      <td>...</td>\n",
              "      <td>...</td>\n",
              "      <td>...</td>\n",
              "      <td>...</td>\n",
              "      <td>...</td>\n",
              "    </tr>\n",
              "    <tr>\n",
              "      <th>28593025</th>\n",
              "      <td>D</td>\n",
              "      <td>253839</td>\n",
              "      <td>15835</td>\n",
              "      <td>40</td>\n",
              "      <td>2015-10-26</td>\n",
              "      <td>13</td>\n",
              "      <td>3000</td>\n",
              "      <td>22</td>\n",
              "      <td>56</td>\n",
              "      <td>402</td>\n",
              "      <td>D040213</td>\n",
              "      <td>간식</td>\n",
              "      <td>음료</td>\n",
              "      <td>일반차음료</td>\n",
              "      <td>2015</td>\n",
              "      <td>오후</td>\n",
              "      <td>0</td>\n",
              "      <td>1</td>\n",
              "      <td>평일</td>\n",
              "    </tr>\n",
              "    <tr>\n",
              "      <th>28593026</th>\n",
              "      <td>D</td>\n",
              "      <td>253839</td>\n",
              "      <td>15835</td>\n",
              "      <td>40</td>\n",
              "      <td>2015-10-26</td>\n",
              "      <td>13</td>\n",
              "      <td>1300</td>\n",
              "      <td>22</td>\n",
              "      <td>56</td>\n",
              "      <td>402</td>\n",
              "      <td>D040215</td>\n",
              "      <td>간식</td>\n",
              "      <td>음료</td>\n",
              "      <td>커피음료</td>\n",
              "      <td>2015</td>\n",
              "      <td>오후</td>\n",
              "      <td>0</td>\n",
              "      <td>1</td>\n",
              "      <td>평일</td>\n",
              "    </tr>\n",
              "    <tr>\n",
              "      <th>28593027</th>\n",
              "      <td>D</td>\n",
              "      <td>253840</td>\n",
              "      <td>2070</td>\n",
              "      <td>40</td>\n",
              "      <td>2015-10-26</td>\n",
              "      <td>16</td>\n",
              "      <td>59700</td>\n",
              "      <td>22</td>\n",
              "      <td>54</td>\n",
              "      <td>201</td>\n",
              "      <td>D020101</td>\n",
              "      <td>바디케어</td>\n",
              "      <td>헤어케어</td>\n",
              "      <td>샴푸</td>\n",
              "      <td>2015</td>\n",
              "      <td>오후</td>\n",
              "      <td>0</td>\n",
              "      <td>1</td>\n",
              "      <td>평일</td>\n",
              "    </tr>\n",
              "    <tr>\n",
              "      <th>28593028</th>\n",
              "      <td>D</td>\n",
              "      <td>253841</td>\n",
              "      <td>15835</td>\n",
              "      <td>40</td>\n",
              "      <td>2015-10-26</td>\n",
              "      <td>23</td>\n",
              "      <td>2000</td>\n",
              "      <td>22</td>\n",
              "      <td>56</td>\n",
              "      <td>401</td>\n",
              "      <td>D040106</td>\n",
              "      <td>간식</td>\n",
              "      <td>과자</td>\n",
              "      <td>하드캔디</td>\n",
              "      <td>2015</td>\n",
              "      <td>오후</td>\n",
              "      <td>0</td>\n",
              "      <td>1</td>\n",
              "      <td>평일</td>\n",
              "    </tr>\n",
              "    <tr>\n",
              "      <th>28593029</th>\n",
              "      <td>D</td>\n",
              "      <td>257795</td>\n",
              "      <td>13918</td>\n",
              "      <td>43</td>\n",
              "      <td>2015-12-02</td>\n",
              "      <td>22</td>\n",
              "      <td>2500</td>\n",
              "      <td>24</td>\n",
              "      <td>56</td>\n",
              "      <td>401</td>\n",
              "      <td>D040109</td>\n",
              "      <td>간식</td>\n",
              "      <td>과자</td>\n",
              "      <td>쿠키</td>\n",
              "      <td>2015</td>\n",
              "      <td>오후</td>\n",
              "      <td>0</td>\n",
              "      <td>1</td>\n",
              "      <td>평일</td>\n",
              "    </tr>\n",
              "  </tbody>\n",
              "</table>\n",
              "<p>28593030 rows × 19 columns</p>\n",
              "</div>"
            ],
            "text/plain": [
              "         제휴사    영수증번호   고객번호  점포코드       구매일자  ...  구매년도  오전오후  오전  오후  공휴일\n",
              "0          A  2757986  15148    10 2014-09-20  ...  2014    오후   0   1   평일\n",
              "1          A  2757986  15148    10 2014-09-20  ...  2014    오후   0   1   평일\n",
              "2          A  2757987    400    10 2014-09-20  ...  2014    오후   0   1   평일\n",
              "3          A  2757987    400    10 2014-09-20  ...  2014    오후   0   1   평일\n",
              "4          A  2757988   2043    10 2014-09-20  ...  2014    오후   0   1   평일\n",
              "...       ..      ...    ...   ...        ...  ...   ...   ...  ..  ..  ...\n",
              "28593025   D   253839  15835    40 2015-10-26  ...  2015    오후   0   1   평일\n",
              "28593026   D   253839  15835    40 2015-10-26  ...  2015    오후   0   1   평일\n",
              "28593027   D   253840   2070    40 2015-10-26  ...  2015    오후   0   1   평일\n",
              "28593028   D   253841  15835    40 2015-10-26  ...  2015    오후   0   1   평일\n",
              "28593029   D   257795  13918    43 2015-12-02  ...  2015    오후   0   1   평일\n",
              "\n",
              "[28593030 rows x 19 columns]"
            ]
          },
          "execution_count": 10,
          "metadata": {},
          "output_type": "execute_result"
        }
      ],
      "source": [
        "h"
      ]
    },
    {
      "cell_type": "code",
      "execution_count": null,
      "metadata": {
        "id": "E6K4S8bjlYTx"
      },
      "outputs": [],
      "source": [
        "h['요일'] = h['구매일자'].dt.day_name()"
      ]
    },
    {
      "cell_type": "code",
      "execution_count": null,
      "metadata": {
        "id": "bcEJVA39ojV8"
      },
      "outputs": [],
      "source": [
        "def get_days(x,y):\n",
        "  if (x == '평일') & (y in ['Saturday','Sunday']) :\n",
        "    x = '휴일'\n",
        "  elif (x == '공휴일') & (y in ['Saturday','Sunday']) :\n",
        "    x = '휴일'\n",
        "  elif (x == '평일') & (y in ['Monday','Tuesday','Wednesday','Thursday','Friday']) :\n",
        "    x = '평일'\n",
        "  elif (x == '공휴일') & (y in ['Monday','Tuesday','Wednesday','Thursday','Friday']) :\n",
        "    x = '휴일'\n",
        "  return x "
      ]
    },
    {
      "cell_type": "code",
      "execution_count": null,
      "metadata": {
        "id": "o__JVoW4p-a1"
      },
      "outputs": [],
      "source": [
        "h['평휴일'] = h.apply(lambda x : get_days(x['공휴일'],x['요일']),axis=1)"
      ]
    },
    {
      "cell_type": "code",
      "execution_count": null,
      "metadata": {
        "id": "VRhZr5skwpDm"
      },
      "outputs": [],
      "source": []
    }
  ],
  "metadata": {
    "accelerator": "GPU",
    "colab": {
      "authorship_tag": "ABX9TyOXCUvIWa3nY8fCXAMMsH+Q",
      "collapsed_sections": [],
      "include_colab_link": true,
      "machine_shape": "hm",
      "name": "평일/휴일.ipynb",
      "provenance": []
    },
    "kernelspec": {
      "display_name": "Python 3",
      "name": "python3"
    },
    "language_info": {
      "name": "python"
    }
  },
  "nbformat": 4,
  "nbformat_minor": 0
}
