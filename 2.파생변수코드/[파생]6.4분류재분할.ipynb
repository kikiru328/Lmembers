{
  "cells": [
    {
      "cell_type": "markdown",
      "metadata": {
        "colab_type": "text",
        "id": "view-in-github"
      },
      "source": [
        "<a href=\"https://colab.research.google.com/github/kikiru328/enterprise_analysis/blob/main/%EA%B6%8C%EC%A4%80%EA%B8%B0%EC%9D%98_%EC%95%94%EC%82%B4%EC%8B%9C%EB%8F%84.ipynb\" target=\"_parent\"><img src=\"https://colab.research.google.com/assets/colab-badge.svg\" alt=\"Open In Colab\"/></a>"
      ]
    },
    {
      "cell_type": "markdown",
      "metadata": {
        "id": "jO8zKKPzQ2AE"
      },
      "source": [
        "#### Introduction  \n",
        ">분류 재 분할"
      ]
    },
    {
      "cell_type": "code",
      "execution_count": 1,
      "metadata": {
        "colab": {
          "base_uri": "https://localhost:8080/"
        },
        "id": "YMHoyGxAvvvt",
        "outputId": "04af6f41-fbd1-4160-f672-f873527fad34"
      },
      "outputs": [
        {
          "name": "stdout",
          "output_type": "stream",
          "text": [
            "Mounted at /content/drive\n",
            "Reading package lists... Done\n",
            "Building dependency tree       \n",
            "Reading state information... Done\n",
            "The following NEW packages will be installed:\n",
            "  fonts-nanum\n",
            "0 upgraded, 1 newly installed, 0 to remove and 37 not upgraded.\n",
            "Need to get 9,604 kB of archives.\n",
            "After this operation, 29.5 MB of additional disk space will be used.\n",
            "Get:1 http://archive.ubuntu.com/ubuntu bionic/universe amd64 fonts-nanum all 20170925-1 [9,604 kB]\n",
            "Fetched 9,604 kB in 2s (5,583 kB/s)\n",
            "debconf: unable to initialize frontend: Dialog\n",
            "debconf: (No usable dialog-like program is installed, so the dialog based frontend cannot be used. at /usr/share/perl5/Debconf/FrontEnd/Dialog.pm line 76, <> line 1.)\n",
            "debconf: falling back to frontend: Readline\n",
            "debconf: unable to initialize frontend: Readline\n",
            "debconf: (This frontend requires a controlling tty.)\n",
            "debconf: falling back to frontend: Teletype\n",
            "dpkg-preconfigure: unable to re-open stdin: \n",
            "Selecting previously unselected package fonts-nanum.\n",
            "(Reading database ... 155047 files and directories currently installed.)\n",
            "Preparing to unpack .../fonts-nanum_20170925-1_all.deb ...\n",
            "Unpacking fonts-nanum (20170925-1) ...\n",
            "Setting up fonts-nanum (20170925-1) ...\n",
            "Processing triggers for fontconfig (2.12.6-0ubuntu2) ...\n",
            "/usr/share/fonts: caching, new cache contents: 0 fonts, 1 dirs\n",
            "/usr/share/fonts/truetype: caching, new cache contents: 0 fonts, 3 dirs\n",
            "/usr/share/fonts/truetype/humor-sans: caching, new cache contents: 1 fonts, 0 dirs\n",
            "/usr/share/fonts/truetype/liberation: caching, new cache contents: 16 fonts, 0 dirs\n",
            "/usr/share/fonts/truetype/nanum: caching, new cache contents: 10 fonts, 0 dirs\n",
            "/usr/local/share/fonts: caching, new cache contents: 0 fonts, 0 dirs\n",
            "/root/.local/share/fonts: skipping, no such directory\n",
            "/root/.fonts: skipping, no such directory\n",
            "/var/cache/fontconfig: cleaning cache directory\n",
            "/root/.cache/fontconfig: not cleaning non-existent cache directory\n",
            "/root/.fontconfig: not cleaning non-existent cache directory\n",
            "fc-cache: succeeded\n"
          ]
        }
      ],
      "source": [
        "import os, sys\n",
        "from google.colab import drive\n",
        "drive.mount('/content/drive')\n",
        "my_path = '/content/notebooks'\n",
        "os.symlink('/content/drive/My Drive/Colab Notebooks', my_path)\n",
        "sys.path.insert(0,my_path)\n",
        "\n",
        "# 한글폰트\n",
        "!sudo apt-get install -y fonts-nanum\n",
        "!sudo fc-cache -fv\n",
        "!rm ~/.cache/matplotlib -rf\n",
        "## 돌리고 런타임 재시작\n",
        "## 드라이브 마운트, 한글폰트설치코드 제외 셀 실행"
      ]
    },
    {
      "cell_type": "code",
      "execution_count": 1,
      "metadata": {
        "colab": {
          "base_uri": "https://localhost:8080/"
        },
        "id": "VjEX1T2Ovw87",
        "outputId": "4886404a-00fc-48b4-9809-05c068c604e6"
      },
      "outputs": [
        {
          "name": "stdout",
          "output_type": "stream",
          "text": [
            "/content/drive/My Drive/Colab Notebooks\n"
          ]
        }
      ],
      "source": [
        "#  Directory 변경 (모듈이용)\n",
        "%pwd\n",
        "%cd '../content/notebooks'\n",
        "\n",
        "# module import\n",
        "## Data Load\n",
        "from pickle5 import pickle \n",
        "\n",
        "## Basic module\n",
        "import pandas as pd\n",
        "import numpy as np\n",
        "import datetime as dt\n",
        "import seaborn as sns\n",
        "import matplotlib.pyplot as plt\n",
        "plt.rc('font', family='NanumBarunGothic')\n",
        "\n",
        "#waring\n",
        "import warnings\n",
        "warnings.filterwarnings('ignore')"
      ]
    },
    {
      "cell_type": "code",
      "execution_count": 6,
      "metadata": {
        "id": "yblnYt0IWQsa"
      },
      "outputs": [],
      "source": [
        "pd.set_option('display.max_rows', 1000)"
      ]
    },
    {
      "cell_type": "code",
      "execution_count": 26,
      "metadata": {
        "id": "SYWZrT4zRJC2"
      },
      "outputs": [],
      "source": [
        "with open('/content/drive/MyDrive/공유문서/1차 프로젝트/5조/data/EDA/기존_purprd_cust.pkl','rb') as s_df:\n",
        "  df = pickle.load(s_df)"
      ]
    },
    {
      "cell_type": "code",
      "execution_count": 7,
      "metadata": {
        "colab": {
          "base_uri": "https://localhost:8080/"
        },
        "id": "sXunSsx3SCwg",
        "outputId": "6e960a8d-0cc5-467e-b216-48dca1d23820"
      },
      "outputs": [
        {
          "data": {
            "text/plain": [
              "['가구/인테리어',\n",
              " '가공식품',\n",
              " '신선식품',\n",
              " '패션잡화',\n",
              " '일상용품',\n",
              " '의류',\n",
              " '명품',\n",
              " '전문스포츠/레저',\n",
              " '디지털/가전',\n",
              " '기타',\n",
              " '교육/문화용품']"
            ]
          },
          "execution_count": 7,
          "metadata": {},
          "output_type": "execute_result"
        }
      ],
      "source": [
        "대분류명 = list(df.대분류명.unique())\n",
        "대분류명"
      ]
    },
    {
      "cell_type": "code",
      "execution_count": 28,
      "metadata": {
        "id": "PP5b325zd3Jd"
      },
      "outputs": [],
      "source": [
        "가구인테리어 = df[df['대분류명']=='가구/인테리어']\n",
        "가공식품 = df[df['대분류명']=='가공식품']\n",
        "신선식품 = df[df['대분류명']=='신선식품']\n",
        "패션잡화 = df[df['대분류명']=='패션잡화']\n",
        "일상용품 = df[df['대분류명']=='일상용품']\n",
        "의류 = df[df['대분류명']=='의류']\n",
        "명품 = df[df['대분류명']=='명품']\n",
        "전문스포츠레저 = df[df['대분류명']=='전문스포츠/레저']\n",
        "디지털가전 = df[df['대분류명']=='디지털/가전']\n",
        "기타 = df[df['대분류명']=='기타']\n",
        "교육문화용품 = df[df['대분류명']=='교육/문화용품']"
      ]
    },
    {
      "cell_type": "markdown",
      "metadata": {
        "id": "Ki2dPYgpSDww"
      },
      "source": []
    },
    {
      "cell_type": "code",
      "execution_count": 29,
      "metadata": {
        "id": "yfkmn3T4s5Tn"
      },
      "outputs": [],
      "source": [
        "def check(a,b,c,d):\n",
        "  한거 = a + b + c\n",
        "  for i in 한거:\n",
        "    if i not in list(d.중분류명.unique()):\n",
        "      print(i) "
      ]
    },
    {
      "cell_type": "markdown",
      "metadata": {
        "id": "3Dx7moUpdttT"
      },
      "source": [
        "# 가구인테리어"
      ]
    },
    {
      "cell_type": "code",
      "execution_count": 30,
      "metadata": {
        "id": "T86J3WWFRIj6"
      },
      "outputs": [],
      "source": [
        "# 내구재\n",
        "가구인테리어내구재 = ['침구/수예','가구', '웨딩', \n",
        "       '커튼류', '브랜드침구', '성인침구', '장식용품', '성인침구류',\n",
        "       '조명/전구', '아동침구류', '가구/인테리어샵', '소가구', '의자/상', '아동침구', '상', '벽지류',\n",
        "       '의자', '테이블', '아웃도어퍼니처', '제기용품']\n",
        "\n",
        "# 준내구재\n",
        "가구인테리어준내구재 = ['주방용품','식기','수예시즌','수예소품','보수용품']\n",
        "# 비내구재\n",
        "가구인테리어비내구재 = ['일용잡화','생활잡화','문구/팬시','건전지']"
      ]
    },
    {
      "cell_type": "code",
      "execution_count": 31,
      "metadata": {
        "colab": {
          "base_uri": "https://localhost:8080/"
        },
        "id": "xumIFgHLRIYT",
        "outputId": "aff2d28e-a7bd-436f-caa6-9ead487fb878"
      },
      "outputs": [
        {
          "data": {
            "text/plain": [
              "True"
            ]
          },
          "execution_count": 31,
          "metadata": {},
          "output_type": "execute_result"
        }
      ],
      "source": [
        "len(가구인테리어내구재) + len(가구인테리어준내구재) + len(가구인테리어비내구재) == len(가구인테리어.중분류명.unique())"
      ]
    },
    {
      "cell_type": "markdown",
      "metadata": {
        "id": "IPxiu5naRIR_"
      },
      "source": [
        "#가공식품"
      ]
    },
    {
      "cell_type": "code",
      "execution_count": 32,
      "metadata": {
        "colab": {
          "base_uri": "https://localhost:8080/"
        },
        "id": "Plqj9bzZRINX",
        "outputId": "65746197-d452-4dcd-c3b2-8008f2329b93"
      },
      "outputs": [
        {
          "name": "stdout",
          "output_type": "stream",
          "text": [
            "True\n"
          ]
        }
      ],
      "source": [
        "가공식품내구재 = []\n",
        "가공식품준내구재 = []\n",
        "가공식품비내구재 = list(가공식품.중분류명.unique())\n",
        "\n",
        "print(len(가공식품내구재) + len(가공식품준내구재) + len(가공식품비내구재) == len(가공식품.중분류명.unique()))"
      ]
    },
    {
      "cell_type": "markdown",
      "metadata": {
        "id": "cxqG1s5YRH_r"
      },
      "source": [
        "#신선식품"
      ]
    },
    {
      "cell_type": "code",
      "execution_count": 33,
      "metadata": {
        "colab": {
          "base_uri": "https://localhost:8080/"
        },
        "id": "kL4KjcHJRH5K",
        "outputId": "ff110f23-1ade-4f37-dbf7-3c59bf680957"
      },
      "outputs": [
        {
          "data": {
            "text/plain": [
              "True"
            ]
          },
          "execution_count": 33,
          "metadata": {},
          "output_type": "execute_result"
        }
      ],
      "source": [
        "신선식품내구재 = []\n",
        "신선식품준내구재 = []\n",
        "신선식품비내구재 = list(신선식품.중분류명.unique())\n",
        "\n",
        "len(신선식품내구재) + len(신선식품준내구재) + len(신선식품비내구재) == len(신선식품.중분류명.unique())"
      ]
    },
    {
      "cell_type": "markdown",
      "metadata": {
        "id": "i5hhUNw1RHzO"
      },
      "source": [
        "# 패션잡화\n",
        "\n",
        "중분류중 보석<"
      ]
    },
    {
      "cell_type": "code",
      "execution_count": 34,
      "metadata": {
        "colab": {
          "base_uri": "https://localhost:8080/"
        },
        "id": "b1QKsKWuRHuz",
        "outputId": "b0260693-1c84-4942-81e4-b31df7d7a123"
      },
      "outputs": [
        {
          "data": {
            "text/plain": [
              "array(['섬유잡화', '피혁잡화', '구두', '보석', '액세서리', '준보석/시계', '드레스화브랜드', '모자',\n",
              "       '시즌잡화', '아동슈즈', '샌들슬리퍼', '운동화', '우산/양산', '가방', 'NB구두', '피혁토탈',\n",
              "       'TRAVEL', '장갑', '준보석', '시계', '피혁브랜드', '스카프', '남성구두', '썬글라스',\n",
              "       '시즌슈즈', '캐주얼화브랜드', '미입점행사', '잡화멀티샵', '핸드백', '시즌토탈', '벨트', '캐주얼슈즈',\n",
              "       '스포츠슈즈', '가방브랜드', '슈즈용품', '여성구두', '슈즈행사', '지갑/벨트', '아동화브랜드', '지갑',\n",
              "       '여행용품'], dtype=object)"
            ]
          },
          "execution_count": 34,
          "metadata": {},
          "output_type": "execute_result"
        }
      ],
      "source": [
        "패션잡화.중분류명.unique()"
      ]
    },
    {
      "cell_type": "code",
      "execution_count": 37,
      "metadata": {
        "colab": {
          "base_uri": "https://localhost:8080/"
        },
        "id": "ImBB45slRN23",
        "outputId": "b790e9ff-68c9-4502-b9f5-4b4db112e379"
      },
      "outputs": [
        {
          "data": {
            "text/plain": [
              "True"
            ]
          },
          "execution_count": 37,
          "metadata": {},
          "output_type": "execute_result"
        }
      ],
      "source": [
        "패션잡화내구재 = []\n",
        "패션잡화준내구재 = ['섬유잡화', '피혁잡화', '구두','액세서리', '준보석/시계', '드레스화브랜드', '모자',\n",
        "       '시즌잡화', '아동슈즈', '샌들슬리퍼', '운동화', '우산/양산', '가방', 'NB구두', '피혁토탈',\n",
        "       'TRAVEL', '장갑', '준보석', '시계', '피혁브랜드', '스카프', '남성구두', '썬글라스',\n",
        "       '시즌슈즈', '캐주얼화브랜드', '미입점행사', '잡화멀티샵', '핸드백', '시즌토탈', '벨트', '캐주얼슈즈',\n",
        "       '스포츠슈즈', '가방브랜드', '슈즈용품', '여성구두', '슈즈행사', '지갑/벨트', '아동화브랜드', '지갑',\n",
        "       '여행용품']\n",
        "패션잡화비내구재 = []\n",
        "\n",
        "len(패션잡화내구재) + len(패션잡화준내구재) + len(패션잡화비내구재) + 1 == len(패션잡화.중분류명.unique())  #보석"
      ]
    },
    {
      "cell_type": "code",
      "execution_count": 39,
      "metadata": {
        "colab": {
          "base_uri": "https://localhost:8080/",
          "height": 443
        },
        "id": "hNJZ8Uk6RHmy",
        "outputId": "4cda4198-0a19-4c3a-c4be-438b838108f8"
      },
      "outputs": [
        {
          "name": "stdout",
          "output_type": "stream",
          "text": [
            "['보석' '조화']\n"
          ]
        },
        {
          "data": {
            "text/html": [
              "<div>\n",
              "<style scoped>\n",
              "    .dataframe tbody tr th:only-of-type {\n",
              "        vertical-align: middle;\n",
              "    }\n",
              "\n",
              "    .dataframe tbody tr th {\n",
              "        vertical-align: top;\n",
              "    }\n",
              "\n",
              "    .dataframe thead th {\n",
              "        text-align: right;\n",
              "    }\n",
              "</style>\n",
              "<table border=\"1\" class=\"dataframe\">\n",
              "  <thead>\n",
              "    <tr style=\"text-align: right;\">\n",
              "      <th></th>\n",
              "      <th>중분류명</th>\n",
              "      <th>소분류명</th>\n",
              "      <th>구매금액</th>\n",
              "    </tr>\n",
              "  </thead>\n",
              "  <tbody>\n",
              "    <tr>\n",
              "      <th>336</th>\n",
              "      <td>보석</td>\n",
              "      <td>보석</td>\n",
              "      <td>279200</td>\n",
              "    </tr>\n",
              "    <tr>\n",
              "      <th>2713</th>\n",
              "      <td>보석</td>\n",
              "      <td>보석</td>\n",
              "      <td>200000</td>\n",
              "    </tr>\n",
              "    <tr>\n",
              "      <th>3554</th>\n",
              "      <td>보석</td>\n",
              "      <td>보석</td>\n",
              "      <td>800000</td>\n",
              "    </tr>\n",
              "    <tr>\n",
              "      <th>3615</th>\n",
              "      <td>보석</td>\n",
              "      <td>보석</td>\n",
              "      <td>1050000</td>\n",
              "    </tr>\n",
              "    <tr>\n",
              "      <th>3841</th>\n",
              "      <td>보석</td>\n",
              "      <td>보석</td>\n",
              "      <td>100000</td>\n",
              "    </tr>\n",
              "    <tr>\n",
              "      <th>...</th>\n",
              "      <td>...</td>\n",
              "      <td>...</td>\n",
              "      <td>...</td>\n",
              "    </tr>\n",
              "    <tr>\n",
              "      <th>5766839</th>\n",
              "      <td>보석</td>\n",
              "      <td>보석</td>\n",
              "      <td>200000</td>\n",
              "    </tr>\n",
              "    <tr>\n",
              "      <th>5767242</th>\n",
              "      <td>보석</td>\n",
              "      <td>조화</td>\n",
              "      <td>349600</td>\n",
              "    </tr>\n",
              "    <tr>\n",
              "      <th>5767243</th>\n",
              "      <td>보석</td>\n",
              "      <td>조화</td>\n",
              "      <td>331200</td>\n",
              "    </tr>\n",
              "    <tr>\n",
              "      <th>5767244</th>\n",
              "      <td>보석</td>\n",
              "      <td>조화</td>\n",
              "      <td>175500</td>\n",
              "    </tr>\n",
              "    <tr>\n",
              "      <th>5767245</th>\n",
              "      <td>보석</td>\n",
              "      <td>조화</td>\n",
              "      <td>1231200</td>\n",
              "    </tr>\n",
              "  </tbody>\n",
              "</table>\n",
              "<p>5788 rows × 3 columns</p>\n",
              "</div>"
            ],
            "text/plain": [
              "        중분류명 소분류명     구매금액\n",
              "336       보석   보석   279200\n",
              "2713      보석   보석   200000\n",
              "3554      보석   보석   800000\n",
              "3615      보석   보석  1050000\n",
              "3841      보석   보석   100000\n",
              "...      ...  ...      ...\n",
              "5766839   보석   보석   200000\n",
              "5767242   보석   조화   349600\n",
              "5767243   보석   조화   331200\n",
              "5767244   보석   조화   175500\n",
              "5767245   보석   조화  1231200\n",
              "\n",
              "[5788 rows x 3 columns]"
            ]
          },
          "metadata": {},
          "output_type": "display_data"
        },
        {
          "name": "stdout",
          "output_type": "stream",
          "text": [
            "1476943.9651002074\n"
          ]
        }
      ],
      "source": [
        "분류명 = 패션잡화\n",
        "find = '보석'\n",
        "print(분류명[분류명['중분류명']==find]['소분류명'].unique())\n",
        "display(분류명[분류명['중분류명']==find][['중분류명','소분류명','구매금액']])\n",
        "print(분류명[분류명['중분류명']==find]['구매금액'].mean())"
      ]
    },
    {
      "cell_type": "markdown",
      "metadata": {
        "id": "NmkbKm68RHaW"
      },
      "source": [
        "# 일상용품"
      ]
    },
    {
      "cell_type": "code",
      "execution_count": 40,
      "metadata": {
        "colab": {
          "base_uri": "https://localhost:8080/"
        },
        "id": "aZLYzKXLRHOm",
        "outputId": "51714189-a5e5-4049-a511-237ed471f9e1"
      },
      "outputs": [
        {
          "data": {
            "text/plain": [
              "True"
            ]
          },
          "execution_count": 40,
          "metadata": {},
          "output_type": "execute_result"
        }
      ],
      "source": [
        "일상용품내구재 = []\n",
        "\n",
        "\n",
        "일상용품준내구재 = ['아동', '아동복합샵', '유아브랜드','아동브랜드', '음식저장/보관', '그릇/수저','란제리','성인내의','수납용품','란제리브랜드','카시트/매트',\n",
        "            '아동내의', '유아식기', '조리도구','홈웨어', '피트니스', '기기','우산/양산류']\n",
        "\n",
        "\n",
        "\n",
        "일상용품비내구재 = ['화장품','생리대', '바디용품', '세탁세제','야외용품','주방시즌/균일가', '주거세제','청소용품', '애견용품', '음식조리', '주방세제', '화장지', '구강용품', '욕실용품', '바디케어',\n",
        "       '종량제봉투', '균일가', '기초화장품', '색조화장품', '드럭스토어','일반욕실용품', '훼이셜케어', '헤어스타일링','기저귀',\n",
        "       '주방정리', '면도용품', '교육', '개인위생용품', '표백제', '미용티슈', '야외/시즌용품','BOYS 1', '유아위생용품', '키친타올', '자동차 정비용품', '자동차 액세서리',\n",
        "       'SPORTS/OUTDOOR', '유아용품','유아동PB',  '스킨케어', '미용소품','기능헤어케어','화장품브랜드샵', '자동차 청소용품','애완/동물용품','국내화장품', 'GIRLS',\n",
        "        '언더웨어행사', '물티슈', '스타킹','일반헤어케어', '남성용품', '미용잡화', '담배', '유아동용품','남아', '양말', 'BABY/INFANT',\n",
        "       '유아세제', '교환/보수용품', '청소편의도구', '고양이용품', '여성위생용품', '섬유유연제', '여성양말',\n",
        "       '장착용품', '아로마', '수족관용품', '세탁용품', '남성양말', '유아토들러', '탈취제', '밀대/걸레',\n",
        "       '자동차 편의용품', '자동차장식용품', '베이비케어', 'BOYS 2', '살충제', 'EDUCATION 1',\n",
        "       '휴대폰용품', '세차용품', '원예용품', '덴탈케어', 'VIDEOGAME','H&B선물세트',\n",
        "       '아동행사', 'EDUCATION 2', '자동차방향제/소취제', '유아동특정', '수입브랜드', '조리용기',\n",
        "       '동물병원', '아동양말', '휴지통', '패브릭욕실용품', '풋/핸드케어', '제습제', '수도용품',\n",
        "       '유아동NPB', '주니어양말', '매트', '덧신', '시니어위생용품', 'DIY욕실용품', '주니어스포츠',\n",
        "       '주니어웨어', '프리미엄매트', '양말선물세트', '온라인양말', '자동차처분', '오토바이용품', '온라인화장품',\n",
        "       '생리용품','가정잡화', '청소욕실용품', '주방주거세제', '주방용품', '문화용품', '두발용품', '전기전자',\n",
        "       '레저취미', '위생용품', '의류잡화', '화장지/티슈', '건강기능식품', '남성', '핸드/풋케어',\n",
        "       '네일메이크업', '헤어케어', '양말류', '립메이크업', '일반의약외품', '집중케어', '남성케어', '구강케어',\n",
        "       '계절팩', '방향/제습/탈취제', '아이메이크업', '클렌징', '여성용품', '베이직케어', '여행용품',\n",
        "       '베이스메이크업', '선케어', '여성', '파티/팬시용품','전기용품','안전용품']\n",
        "len(일상용품내구재) + len(일상용품준내구재) + len(일상용품비내구재) == len(일상용품.중분류명.unique())"
      ]
    },
    {
      "cell_type": "markdown",
      "metadata": {
        "id": "Ak_bM3RlRG0p"
      },
      "source": [
        "# 의류"
      ]
    },
    {
      "cell_type": "code",
      "execution_count": 41,
      "metadata": {
        "colab": {
          "base_uri": "https://localhost:8080/"
        },
        "id": "QmrYxk8zsSPY",
        "outputId": "b478133b-369b-4f37-99ab-bbe2bde2a69d"
      },
      "outputs": [
        {
          "name": "stdout",
          "output_type": "stream",
          "text": [
            "True\n"
          ]
        }
      ],
      "source": [
        "의류내구재 = []\n",
        "의류준내구재 = list(의류.중분류명.unique())\n",
        "의류비내구재 = []\n",
        "\n",
        "print(len(의류내구재) + len(의류준내구재) + len(의류비내구재) == len(의류.중분류명.unique()))\n",
        "check(의류내구재,의류비내구재,의류준내구재,의류)"
      ]
    },
    {
      "cell_type": "markdown",
      "metadata": {
        "id": "0hq1mr-ERGuE"
      },
      "source": [
        "# 명품은 명품"
      ]
    },
    {
      "cell_type": "code",
      "execution_count": 43,
      "metadata": {
        "id": "WATPXA5CSmr3"
      },
      "outputs": [],
      "source": [
        "명품내구재 = []\n",
        "명품준내구재 = []\n",
        "명품비내구재 = []\n",
        "명품리스트 = ['명품','보석']"
      ]
    },
    {
      "cell_type": "markdown",
      "metadata": {
        "id": "PZrzQyZiRGnq"
      },
      "source": [
        "#'전문스포츠/레저',\n"
      ]
    },
    {
      "cell_type": "code",
      "execution_count": 44,
      "metadata": {
        "colab": {
          "base_uri": "https://localhost:8080/"
        },
        "id": "KKYkc42hRGZ4",
        "outputId": "00fe5174-cbea-4712-cc3a-25f69f80591f"
      },
      "outputs": [
        {
          "name": "stdout",
          "output_type": "stream",
          "text": [
            "True\n"
          ]
        }
      ],
      "source": [
        "전문스포츠레저내구재 = []\n",
        "전문스포츠레저준내구재 = list(전문스포츠레저.중분류명.unique())\n",
        "전문스포츠레저비내구재 = []\n",
        "\n",
        "print(len(전문스포츠레저내구재) + len(전문스포츠레저준내구재) + len(전문스포츠레저비내구재) == len(전문스포츠레저.중분류명.unique()))\n",
        "check(전문스포츠레저내구재,전문스포츠레저준내구재,전문스포츠레저비내구재,전문스포츠레저)"
      ]
    },
    {
      "cell_type": "markdown",
      "metadata": {
        "id": "JZ1aPF-ZRGRS"
      },
      "source": [
        "#디지털가전\n"
      ]
    },
    {
      "cell_type": "code",
      "execution_count": 45,
      "metadata": {
        "colab": {
          "base_uri": "https://localhost:8080/"
        },
        "id": "b-J0nX2-uqr4",
        "outputId": "11cde74e-3890-40dc-afb3-6b5fdbd26299"
      },
      "outputs": [
        {
          "name": "stdout",
          "output_type": "stream",
          "text": [
            "True\n"
          ]
        }
      ],
      "source": [
        "디지털가전내구재 = list(디지털가전.중분류명.unique())\n",
        "디지털가전준내구재 = []\n",
        "디지털가전비내구재 = []\n",
        "\n",
        "print(len(디지털가전내구재) + len(디지털가전준내구재) + len(디지털가전비내구재) == len(디지털가전.중분류명.unique()))\n",
        "check(디지털가전내구재,디지털가전준내구재,디지털가전비내구재,디지털가전)"
      ]
    },
    {
      "cell_type": "markdown",
      "metadata": {
        "id": "KrT88aojuqoQ"
      },
      "source": [
        "# '기타'"
      ]
    },
    {
      "cell_type": "code",
      "execution_count": 46,
      "metadata": {
        "colab": {
          "base_uri": "https://localhost:8080/"
        },
        "id": "4jICVJuLuqfT",
        "outputId": "377756de-6b2b-43f0-eb12-9759b9ccae25"
      },
      "outputs": [
        {
          "name": "stdout",
          "output_type": "stream",
          "text": [
            "True\n"
          ]
        }
      ],
      "source": [
        "기타내구재 = []\n",
        "기타준내구재 = []\n",
        "기타비내구재 = list(기타.중분류명.unique())\n",
        "\n",
        "print(len(기타내구재) + len(기타준내구재) + len(기타비내구재) == len(기타.중분류명.unique()))\n",
        "check(기타내구재,기타준내구재,기타비내구재,기타)"
      ]
    },
    {
      "cell_type": "markdown",
      "metadata": {
        "id": "4xT8-7r_uqbw"
      },
      "source": [
        "#'교육/문화용품'"
      ]
    },
    {
      "cell_type": "code",
      "execution_count": 47,
      "metadata": {
        "colab": {
          "base_uri": "https://localhost:8080/"
        },
        "id": "uRJ1I4VBuqV8",
        "outputId": "2af78b69-f618-458b-e55e-0fe3eaae64bf"
      },
      "outputs": [
        {
          "name": "stdout",
          "output_type": "stream",
          "text": [
            "True\n"
          ]
        }
      ],
      "source": [
        "교육문화용품내구재 = []\n",
        "교육문화용품준내구재 = []\n",
        "교육문화용품비내구재 = list(교육문화용품.중분류명.unique())\n",
        "\n",
        "print(len(교육문화용품내구재) + len(교육문화용품준내구재) + len(교육문화용품비내구재) == len(교육문화용품.중분류명.unique()))\n",
        "check(교육문화용품내구재,교육문화용품준내구재,교육문화용품비내구재,교육문화용품)"
      ]
    },
    {
      "cell_type": "code",
      "execution_count": 48,
      "metadata": {
        "id": "q9CNZd50tunO"
      },
      "outputs": [],
      "source": [
        "def 가구분류(x):\n",
        "  global 가구인테리어내구재, 가구인테리어준내구재, 가구인테리어비내구재\n",
        "  cat=''\n",
        "  if x in 가구인테리어내구재:\n",
        "    cat = '내구재'\n",
        "  elif x in 가구인테리어준내구재:\n",
        "    cat = '준내구재'\n",
        "  elif x in 가구인테리어비내구재:\n",
        "    cat = '비내구재'\n",
        "  else:\n",
        "    cat = '불명'\n",
        "  return cat\n",
        "\n",
        "가구인테리어['새분류'] = 가구인테리어[가구인테리어['대분류명']=='가구/인테리어']['중분류명'].apply(lambda x : 가구분류(x))"
      ]
    },
    {
      "cell_type": "code",
      "execution_count": 49,
      "metadata": {
        "id": "PYhqR2KQvN3r"
      },
      "outputs": [],
      "source": [
        "def 가공분류(x):\n",
        "  global 가공식품내구재, 가공식품준내구재, 가공식품비내구재\n",
        "  cat=''\n",
        "  if x in 가공식품내구재:\n",
        "    cat = '내구재'\n",
        "  elif x in 가공식품준내구재:\n",
        "    cat = '준내구재'\n",
        "  elif x in 가공식품비내구재:\n",
        "    cat = '비내구재'\n",
        "  else:\n",
        "    cat = '불명'\n",
        "  return cat\n",
        "\n",
        "가공식품['새분류'] = 가공식품[가공식품['대분류명']=='가공식품']['중분류명'].apply(lambda x : 가공분류(x))"
      ]
    },
    {
      "cell_type": "code",
      "execution_count": 50,
      "metadata": {
        "id": "EdkRRVRrJzua"
      },
      "outputs": [],
      "source": [
        "def 신선분류(x):\n",
        "  global 신선식품내구재, 신선식품준내구재, 신선식품비내구재\n",
        "  cat=''\n",
        "  if x in 신선식품내구재:\n",
        "    cat = '내구재'\n",
        "  elif x in 신선식품준내구재:\n",
        "    cat = '준내구재'\n",
        "  elif x in 신선식품비내구재:\n",
        "    cat = '비내구재'\n",
        "  else:\n",
        "    cat = '불명'\n",
        "  return cat\n",
        "\n",
        "신선식품['새분류'] = 신선식품[신선식품['대분류명']=='신선식품']['중분류명'].apply(lambda x : 신선분류(x))"
      ]
    },
    {
      "cell_type": "code",
      "execution_count": 63,
      "metadata": {
        "id": "UCTW9cDqJz1Y"
      },
      "outputs": [],
      "source": [
        "def 패션분류(x):\n",
        "  global 패션잡화내구재, 패션잡화준내구재, 패션잡화비내구재\n",
        "  cat=''\n",
        "  if x in 패션잡화내구재:\n",
        "    cat = '내구재'\n",
        "  elif x in 패션잡화준내구재:\n",
        "    cat = '준내구재'\n",
        "  elif x in 패션잡화비내구재:\n",
        "    cat = '비내구재'\n",
        "  else:\n",
        "    cat = '명품'\n",
        "  return cat\n",
        "패션잡화['새분류'] = 패션잡화[패션잡화['대분류명']=='패션잡화']['중분류명'].apply(lambda x : 패션분류(x))"
      ]
    },
    {
      "cell_type": "code",
      "execution_count": 52,
      "metadata": {
        "id": "_vT24g5IJz7X"
      },
      "outputs": [],
      "source": [
        "def 일상분류(x):\n",
        "  global 일상용품내구재, 일상용품준내구재, 일상용품비내구재\n",
        "  cat=''\n",
        "  if x in 일상용품내구재:\n",
        "    cat = '내구재'\n",
        "  elif x in 일상용품준내구재:\n",
        "    cat = '준내구재'\n",
        "  elif x in 일상용품비내구재:\n",
        "    cat = '비내구재'\n",
        "  else:\n",
        "    cat = '불명'\n",
        "  return cat\n",
        "\n",
        "일상용품['새분류'] = 일상용품[일상용품['대분류명']=='일상용품']['중분류명'].apply(lambda x : 일상분류(x))"
      ]
    },
    {
      "cell_type": "code",
      "execution_count": 53,
      "metadata": {
        "id": "gVipe6jdJz9-"
      },
      "outputs": [],
      "source": [
        "def 의류분류(x):\n",
        "  global 의류내구재, 의류준내구재, 의류비내구재\n",
        "  cat=''\n",
        "  if x in 의류내구재:\n",
        "    cat = '내구재'\n",
        "  elif x in 의류준내구재:\n",
        "    cat = '준내구재'\n",
        "  elif x in 의류비내구재:\n",
        "    cat = '비내구재'\n",
        "  else:\n",
        "    cat = '불명'\n",
        "  return cat\n",
        "\n",
        "의류['새분류'] = 의류[의류['대분류명']=='의류']['중분류명'].apply(lambda x : 의류분류(x))"
      ]
    },
    {
      "cell_type": "code",
      "execution_count": 54,
      "metadata": {
        "id": "8MUKXpy3J0BH"
      },
      "outputs": [],
      "source": [
        "def 명품분류(x):\n",
        "  cat = ''\n",
        "  if x in 명품내구재:\n",
        "    cat = '내구재'\n",
        "  elif x in 명품준내구재:\n",
        "    cat = '준내구재'\n",
        "  elif x in 명품비내구재:\n",
        "    cat = '비내구재'\n",
        "  elif x in 명품리스트:\n",
        "    cat = '명품'\n",
        "  return cat\n",
        "\n",
        "명품['새분류'] = 명품[명품['대분류명']=='명품']['중분류명'].apply(lambda x : 명품분류(x))"
      ]
    },
    {
      "cell_type": "code",
      "execution_count": 55,
      "metadata": {
        "id": "XeVYV_DxJ0Dk"
      },
      "outputs": [],
      "source": [
        "def 전문스포츠레저분류(x):\n",
        "  global 전문스포츠레저내구재, 전문스포츠레저준내구재, 전문스포츠레저비내구재\n",
        "  cat=''\n",
        "  if x in 전문스포츠레저내구재:\n",
        "    cat = '내구재'\n",
        "  elif x in 전문스포츠레저준내구재:\n",
        "    cat = '준내구재'\n",
        "  elif x in 전문스포츠레저비내구재:\n",
        "    cat = '비내구재'\n",
        "  else:\n",
        "    cat = '불명'\n",
        "  return cat\n",
        "\n",
        "전문스포츠레저['새분류'] = 전문스포츠레저[전문스포츠레저['대분류명']=='전문스포츠/레저']['중분류명'].apply(lambda x : 전문스포츠레저분류(x))"
      ]
    },
    {
      "cell_type": "code",
      "execution_count": 56,
      "metadata": {
        "id": "7kfZithpJ0G1"
      },
      "outputs": [],
      "source": [
        "def 디지털가전분류(x):\n",
        "  global 디지털가전내구재, 디지털가전준내구재, 디지털가전비내구재\n",
        "  cat=''\n",
        "  if x in 디지털가전내구재:\n",
        "    cat = '내구재'\n",
        "  elif x in 디지털가전준내구재:\n",
        "    cat = '준내구재'\n",
        "  elif x in 디지털가전비내구재:\n",
        "    cat = '비내구재'\n",
        "  else:\n",
        "    cat = '불명'\n",
        "  return cat\n",
        "\n",
        "디지털가전['새분류'] = 디지털가전[디지털가전['대분류명']=='디지털/가전']['중분류명'].apply(lambda x : 디지털가전분류(x))"
      ]
    },
    {
      "cell_type": "code",
      "execution_count": 57,
      "metadata": {
        "id": "GSxg5nG5J0Jh"
      },
      "outputs": [],
      "source": [
        "def 기타분류(x):\n",
        "  global 기타내구재, 기타준내구재, 기타비내구재\n",
        "  cat=''\n",
        "  if x in 기타내구재:\n",
        "    cat = '내구재'\n",
        "  elif x in 기타준내구재:\n",
        "    cat = '준내구재'\n",
        "  elif x in 기타비내구재:\n",
        "    cat = '비내구재'\n",
        "  else:\n",
        "    cat = '불명'\n",
        "  return cat\n",
        "\n",
        "기타['새분류'] = 기타[기타['대분류명']=='기타']['중분류명'].apply(lambda x : 기타분류(x))"
      ]
    },
    {
      "cell_type": "code",
      "execution_count": 58,
      "metadata": {
        "id": "9k9T9eH0J0My"
      },
      "outputs": [],
      "source": [
        "def 교육문화용품분류(x):\n",
        "  global 교육문화용품내구재, 교육문화용품준내구재, 교육문화용품비내구재\n",
        "  cat=''\n",
        "  if x in 교육문화용품내구재:\n",
        "    cat = '내구재'\n",
        "  elif x in 교육문화용품준내구재:\n",
        "    cat = '준내구재'\n",
        "  elif x in 교육문화용품비내구재:\n",
        "    cat = '비내구재'\n",
        "  else:\n",
        "    cat = '불명'\n",
        "  return cat\n",
        "\n",
        "교육문화용품['새분류'] = 교육문화용품[교육문화용품['대분류명']=='교육/문화용품']['중분류명'].apply(lambda x : 교육문화용품분류(x))"
      ]
    },
    {
      "cell_type": "code",
      "execution_count": 64,
      "metadata": {
        "id": "Fyh5DcJCJ0e2"
      },
      "outputs": [],
      "source": [
        "A = pd.concat([\n",
        "               가구인테리어, 가공식품, 신선식품, 패션잡화, 일상용품, 의류, 명품, 전문스포츠레저, 디지털가전, 기타, 교육문화용품\n",
        "])"
      ]
    },
    {
      "cell_type": "code",
      "execution_count": 60,
      "metadata": {
        "colab": {
          "base_uri": "https://localhost:8080/",
          "height": 587
        },
        "id": "4yw5Q9axJ0hV",
        "outputId": "57bb0a62-98a8-4f52-c7da-05c0f11cda5c"
      },
      "outputs": [
        {
          "data": {
            "text/html": [
              "<div>\n",
              "<style scoped>\n",
              "    .dataframe tbody tr th:only-of-type {\n",
              "        vertical-align: middle;\n",
              "    }\n",
              "\n",
              "    .dataframe tbody tr th {\n",
              "        vertical-align: top;\n",
              "    }\n",
              "\n",
              "    .dataframe thead th {\n",
              "        text-align: right;\n",
              "    }\n",
              "</style>\n",
              "<table border=\"1\" class=\"dataframe\">\n",
              "  <thead>\n",
              "    <tr style=\"text-align: right;\">\n",
              "      <th></th>\n",
              "      <th>성별</th>\n",
              "      <th>연령대</th>\n",
              "      <th>거주지역</th>\n",
              "      <th>제휴사</th>\n",
              "      <th>멤버십가입개수</th>\n",
              "      <th>영수증번호</th>\n",
              "      <th>고객번호</th>\n",
              "      <th>점포코드</th>\n",
              "      <th>구매일자</th>\n",
              "      <th>구매년도</th>\n",
              "      <th>구매월</th>\n",
              "      <th>구매시간</th>\n",
              "      <th>대분류명</th>\n",
              "      <th>중분류명</th>\n",
              "      <th>소분류명</th>\n",
              "      <th>구매금액</th>\n",
              "      <th>새분류</th>\n",
              "    </tr>\n",
              "  </thead>\n",
              "  <tbody>\n",
              "    <tr>\n",
              "      <th>0</th>\n",
              "      <td>F</td>\n",
              "      <td>50대</td>\n",
              "      <td>경기 김포시</td>\n",
              "      <td>A</td>\n",
              "      <td>0</td>\n",
              "      <td>2757986</td>\n",
              "      <td>15148</td>\n",
              "      <td>10</td>\n",
              "      <td>2014-09-20</td>\n",
              "      <td>2014</td>\n",
              "      <td>9</td>\n",
              "      <td>20</td>\n",
              "      <td>가구/인테리어</td>\n",
              "      <td>일용잡화</td>\n",
              "      <td>위생세제</td>\n",
              "      <td>1000</td>\n",
              "      <td>비내구재</td>\n",
              "    </tr>\n",
              "    <tr>\n",
              "      <th>4</th>\n",
              "      <td>F</td>\n",
              "      <td>50대</td>\n",
              "      <td>경기 김포시</td>\n",
              "      <td>A</td>\n",
              "      <td>0</td>\n",
              "      <td>2757988</td>\n",
              "      <td>2043</td>\n",
              "      <td>10</td>\n",
              "      <td>2014-09-20</td>\n",
              "      <td>2014</td>\n",
              "      <td>9</td>\n",
              "      <td>13</td>\n",
              "      <td>가구/인테리어</td>\n",
              "      <td>일용잡화</td>\n",
              "      <td>위생세제</td>\n",
              "      <td>3950</td>\n",
              "      <td>비내구재</td>\n",
              "    </tr>\n",
              "    <tr>\n",
              "      <th>7</th>\n",
              "      <td>F</td>\n",
              "      <td>50대</td>\n",
              "      <td>경기 김포시</td>\n",
              "      <td>A</td>\n",
              "      <td>0</td>\n",
              "      <td>2757989</td>\n",
              "      <td>2231</td>\n",
              "      <td>10</td>\n",
              "      <td>2014-09-20</td>\n",
              "      <td>2014</td>\n",
              "      <td>9</td>\n",
              "      <td>13</td>\n",
              "      <td>가구/인테리어</td>\n",
              "      <td>일용잡화</td>\n",
              "      <td>위생세제</td>\n",
              "      <td>20780</td>\n",
              "      <td>비내구재</td>\n",
              "    </tr>\n",
              "    <tr>\n",
              "      <th>52</th>\n",
              "      <td>F</td>\n",
              "      <td>50대</td>\n",
              "      <td>인천 계양구</td>\n",
              "      <td>A</td>\n",
              "      <td>0</td>\n",
              "      <td>1254634</td>\n",
              "      <td>2168</td>\n",
              "      <td>30</td>\n",
              "      <td>2014-01-20</td>\n",
              "      <td>2014</td>\n",
              "      <td>1</td>\n",
              "      <td>15</td>\n",
              "      <td>가구/인테리어</td>\n",
              "      <td>침구/수예</td>\n",
              "      <td>L.B</td>\n",
              "      <td>492300</td>\n",
              "      <td>내구재</td>\n",
              "    </tr>\n",
              "    <tr>\n",
              "      <th>53</th>\n",
              "      <td>F</td>\n",
              "      <td>60세이상</td>\n",
              "      <td>경기 김포시</td>\n",
              "      <td>A</td>\n",
              "      <td>0</td>\n",
              "      <td>1254635</td>\n",
              "      <td>732</td>\n",
              "      <td>30</td>\n",
              "      <td>2014-01-20</td>\n",
              "      <td>2014</td>\n",
              "      <td>1</td>\n",
              "      <td>12</td>\n",
              "      <td>가구/인테리어</td>\n",
              "      <td>침구/수예</td>\n",
              "      <td>한실침구</td>\n",
              "      <td>198000</td>\n",
              "      <td>내구재</td>\n",
              "    </tr>\n",
              "    <tr>\n",
              "      <th>...</th>\n",
              "      <td>...</td>\n",
              "      <td>...</td>\n",
              "      <td>...</td>\n",
              "      <td>...</td>\n",
              "      <td>...</td>\n",
              "      <td>...</td>\n",
              "      <td>...</td>\n",
              "      <td>...</td>\n",
              "      <td>...</td>\n",
              "      <td>...</td>\n",
              "      <td>...</td>\n",
              "      <td>...</td>\n",
              "      <td>...</td>\n",
              "      <td>...</td>\n",
              "      <td>...</td>\n",
              "      <td>...</td>\n",
              "      <td>...</td>\n",
              "    </tr>\n",
              "    <tr>\n",
              "      <th>19107665</th>\n",
              "      <td>F</td>\n",
              "      <td>50대</td>\n",
              "      <td>경기 김포시</td>\n",
              "      <td>B</td>\n",
              "      <td>0</td>\n",
              "      <td>7671023</td>\n",
              "      <td>3170</td>\n",
              "      <td>19</td>\n",
              "      <td>2015-07-25</td>\n",
              "      <td>2015</td>\n",
              "      <td>7</td>\n",
              "      <td>22</td>\n",
              "      <td>교육/문화용품</td>\n",
              "      <td>전구</td>\n",
              "      <td>형광램프</td>\n",
              "      <td>5900</td>\n",
              "      <td>비내구재</td>\n",
              "    </tr>\n",
              "    <tr>\n",
              "      <th>19107736</th>\n",
              "      <td>F</td>\n",
              "      <td>60세이상</td>\n",
              "      <td>경기 김포시</td>\n",
              "      <td>B</td>\n",
              "      <td>0</td>\n",
              "      <td>7651580</td>\n",
              "      <td>13544</td>\n",
              "      <td>19</td>\n",
              "      <td>2015-02-26</td>\n",
              "      <td>2015</td>\n",
              "      <td>2</td>\n",
              "      <td>12</td>\n",
              "      <td>교육/문화용품</td>\n",
              "      <td>필기도구</td>\n",
              "      <td>연필깎이</td>\n",
              "      <td>750</td>\n",
              "      <td>비내구재</td>\n",
              "    </tr>\n",
              "    <tr>\n",
              "      <th>19107737</th>\n",
              "      <td>F</td>\n",
              "      <td>60세이상</td>\n",
              "      <td>경기 김포시</td>\n",
              "      <td>B</td>\n",
              "      <td>0</td>\n",
              "      <td>7651580</td>\n",
              "      <td>13544</td>\n",
              "      <td>19</td>\n",
              "      <td>2015-02-26</td>\n",
              "      <td>2015</td>\n",
              "      <td>2</td>\n",
              "      <td>12</td>\n",
              "      <td>교육/문화용품</td>\n",
              "      <td>오피스용품</td>\n",
              "      <td>접착용품</td>\n",
              "      <td>900</td>\n",
              "      <td>비내구재</td>\n",
              "    </tr>\n",
              "    <tr>\n",
              "      <th>19107738</th>\n",
              "      <td>F</td>\n",
              "      <td>60세이상</td>\n",
              "      <td>경기 김포시</td>\n",
              "      <td>B</td>\n",
              "      <td>0</td>\n",
              "      <td>7651580</td>\n",
              "      <td>13544</td>\n",
              "      <td>19</td>\n",
              "      <td>2015-02-26</td>\n",
              "      <td>2015</td>\n",
              "      <td>2</td>\n",
              "      <td>12</td>\n",
              "      <td>교육/문화용품</td>\n",
              "      <td>미술용품</td>\n",
              "      <td>물감류</td>\n",
              "      <td>15800</td>\n",
              "      <td>비내구재</td>\n",
              "    </tr>\n",
              "    <tr>\n",
              "      <th>19107739</th>\n",
              "      <td>F</td>\n",
              "      <td>60세이상</td>\n",
              "      <td>경기 김포시</td>\n",
              "      <td>B</td>\n",
              "      <td>0</td>\n",
              "      <td>7651580</td>\n",
              "      <td>13544</td>\n",
              "      <td>19</td>\n",
              "      <td>2015-02-26</td>\n",
              "      <td>2015</td>\n",
              "      <td>2</td>\n",
              "      <td>12</td>\n",
              "      <td>교육/문화용품</td>\n",
              "      <td>미술용품</td>\n",
              "      <td>채색도구</td>\n",
              "      <td>6000</td>\n",
              "      <td>비내구재</td>\n",
              "    </tr>\n",
              "  </tbody>\n",
              "</table>\n",
              "<p>28445983 rows × 17 columns</p>\n",
              "</div>"
            ],
            "text/plain": [
              "         성별    연령대    거주지역 제휴사  멤버십가입개수  ...     대분류명   중분류명  소분류명    구매금액   새분류\n",
              "0         F    50대  경기 김포시   A        0  ...  가구/인테리어   일용잡화  위생세제    1000  비내구재\n",
              "4         F    50대  경기 김포시   A        0  ...  가구/인테리어   일용잡화  위생세제    3950  비내구재\n",
              "7         F    50대  경기 김포시   A        0  ...  가구/인테리어   일용잡화  위생세제   20780  비내구재\n",
              "52        F    50대  인천 계양구   A        0  ...  가구/인테리어  침구/수예   L.B  492300   내구재\n",
              "53        F  60세이상  경기 김포시   A        0  ...  가구/인테리어  침구/수예  한실침구  198000   내구재\n",
              "...      ..    ...     ...  ..      ...  ...      ...    ...   ...     ...   ...\n",
              "19107665  F    50대  경기 김포시   B        0  ...  교육/문화용품     전구  형광램프    5900  비내구재\n",
              "19107736  F  60세이상  경기 김포시   B        0  ...  교육/문화용품   필기도구  연필깎이     750  비내구재\n",
              "19107737  F  60세이상  경기 김포시   B        0  ...  교육/문화용품  오피스용품  접착용품     900  비내구재\n",
              "19107738  F  60세이상  경기 김포시   B        0  ...  교육/문화용품   미술용품   물감류   15800  비내구재\n",
              "19107739  F  60세이상  경기 김포시   B        0  ...  교육/문화용품   미술용품  채색도구    6000  비내구재\n",
              "\n",
              "[28445983 rows x 17 columns]"
            ]
          },
          "execution_count": 60,
          "metadata": {},
          "output_type": "execute_result"
        }
      ],
      "source": [
        "A"
      ]
    },
    {
      "cell_type": "code",
      "execution_count": 65,
      "metadata": {
        "colab": {
          "base_uri": "https://localhost:8080/"
        },
        "id": "z08JM0HZJ0kC",
        "outputId": "06b8a595-dc9d-4f9d-a132-91c722b038ff"
      },
      "outputs": [
        {
          "data": {
            "text/plain": [
              "array(['비내구재', '내구재', '준내구재', '명품'], dtype=object)"
            ]
          },
          "execution_count": 65,
          "metadata": {},
          "output_type": "execute_result"
        }
      ],
      "source": [
        "A['새분류'].unique()"
      ]
    },
    {
      "cell_type": "code",
      "execution_count": 74,
      "metadata": {
        "id": "51F5BqPYJ04_"
      },
      "outputs": [],
      "source": [
        "with open('/content/drive/MyDrive/공유문서/1차 프로젝트/5조/훈팡/새분류.pkl', 'wb') as save:\n",
        "  pickle.dump(A,save)"
      ]
    },
    {
      "cell_type": "code",
      "execution_count": 2,
      "metadata": {
        "id": "Z-m2S11IJ08j"
      },
      "outputs": [],
      "source": [
        "with open('/content/drive/MyDrive/공유문서/1차 프로젝트/5조/훈팡/새분류.pkl', 'rb') as read:\n",
        "  New = pickle.load(read)"
      ]
    },
    {
      "cell_type": "code",
      "execution_count": 3,
      "metadata": {
        "colab": {
          "base_uri": "https://localhost:8080/",
          "height": 587
        },
        "id": "ZIiGiEKdUhte",
        "outputId": "555a1666-40e8-43e2-f37d-0b5b87097152"
      },
      "outputs": [
        {
          "data": {
            "text/html": [
              "<div>\n",
              "<style scoped>\n",
              "    .dataframe tbody tr th:only-of-type {\n",
              "        vertical-align: middle;\n",
              "    }\n",
              "\n",
              "    .dataframe tbody tr th {\n",
              "        vertical-align: top;\n",
              "    }\n",
              "\n",
              "    .dataframe thead th {\n",
              "        text-align: right;\n",
              "    }\n",
              "</style>\n",
              "<table border=\"1\" class=\"dataframe\">\n",
              "  <thead>\n",
              "    <tr style=\"text-align: right;\">\n",
              "      <th></th>\n",
              "      <th>성별</th>\n",
              "      <th>연령대</th>\n",
              "      <th>거주지역</th>\n",
              "      <th>제휴사</th>\n",
              "      <th>멤버십가입개수</th>\n",
              "      <th>영수증번호</th>\n",
              "      <th>고객번호</th>\n",
              "      <th>점포코드</th>\n",
              "      <th>구매일자</th>\n",
              "      <th>구매년도</th>\n",
              "      <th>구매월</th>\n",
              "      <th>구매시간</th>\n",
              "      <th>대분류명</th>\n",
              "      <th>중분류명</th>\n",
              "      <th>소분류명</th>\n",
              "      <th>구매금액</th>\n",
              "      <th>새분류</th>\n",
              "    </tr>\n",
              "  </thead>\n",
              "  <tbody>\n",
              "    <tr>\n",
              "      <th>0</th>\n",
              "      <td>F</td>\n",
              "      <td>50대</td>\n",
              "      <td>경기 김포시</td>\n",
              "      <td>A</td>\n",
              "      <td>0</td>\n",
              "      <td>2757986</td>\n",
              "      <td>15148</td>\n",
              "      <td>10</td>\n",
              "      <td>2014-09-20</td>\n",
              "      <td>2014</td>\n",
              "      <td>9</td>\n",
              "      <td>20</td>\n",
              "      <td>가구/인테리어</td>\n",
              "      <td>일용잡화</td>\n",
              "      <td>위생세제</td>\n",
              "      <td>1000</td>\n",
              "      <td>비내구재</td>\n",
              "    </tr>\n",
              "    <tr>\n",
              "      <th>4</th>\n",
              "      <td>F</td>\n",
              "      <td>50대</td>\n",
              "      <td>경기 김포시</td>\n",
              "      <td>A</td>\n",
              "      <td>0</td>\n",
              "      <td>2757988</td>\n",
              "      <td>2043</td>\n",
              "      <td>10</td>\n",
              "      <td>2014-09-20</td>\n",
              "      <td>2014</td>\n",
              "      <td>9</td>\n",
              "      <td>13</td>\n",
              "      <td>가구/인테리어</td>\n",
              "      <td>일용잡화</td>\n",
              "      <td>위생세제</td>\n",
              "      <td>3950</td>\n",
              "      <td>비내구재</td>\n",
              "    </tr>\n",
              "    <tr>\n",
              "      <th>7</th>\n",
              "      <td>F</td>\n",
              "      <td>50대</td>\n",
              "      <td>경기 김포시</td>\n",
              "      <td>A</td>\n",
              "      <td>0</td>\n",
              "      <td>2757989</td>\n",
              "      <td>2231</td>\n",
              "      <td>10</td>\n",
              "      <td>2014-09-20</td>\n",
              "      <td>2014</td>\n",
              "      <td>9</td>\n",
              "      <td>13</td>\n",
              "      <td>가구/인테리어</td>\n",
              "      <td>일용잡화</td>\n",
              "      <td>위생세제</td>\n",
              "      <td>20780</td>\n",
              "      <td>비내구재</td>\n",
              "    </tr>\n",
              "    <tr>\n",
              "      <th>52</th>\n",
              "      <td>F</td>\n",
              "      <td>50대</td>\n",
              "      <td>인천 계양구</td>\n",
              "      <td>A</td>\n",
              "      <td>0</td>\n",
              "      <td>1254634</td>\n",
              "      <td>2168</td>\n",
              "      <td>30</td>\n",
              "      <td>2014-01-20</td>\n",
              "      <td>2014</td>\n",
              "      <td>1</td>\n",
              "      <td>15</td>\n",
              "      <td>가구/인테리어</td>\n",
              "      <td>침구/수예</td>\n",
              "      <td>L.B</td>\n",
              "      <td>492300</td>\n",
              "      <td>내구재</td>\n",
              "    </tr>\n",
              "    <tr>\n",
              "      <th>53</th>\n",
              "      <td>F</td>\n",
              "      <td>60세이상</td>\n",
              "      <td>경기 김포시</td>\n",
              "      <td>A</td>\n",
              "      <td>0</td>\n",
              "      <td>1254635</td>\n",
              "      <td>732</td>\n",
              "      <td>30</td>\n",
              "      <td>2014-01-20</td>\n",
              "      <td>2014</td>\n",
              "      <td>1</td>\n",
              "      <td>12</td>\n",
              "      <td>가구/인테리어</td>\n",
              "      <td>침구/수예</td>\n",
              "      <td>한실침구</td>\n",
              "      <td>198000</td>\n",
              "      <td>내구재</td>\n",
              "    </tr>\n",
              "    <tr>\n",
              "      <th>...</th>\n",
              "      <td>...</td>\n",
              "      <td>...</td>\n",
              "      <td>...</td>\n",
              "      <td>...</td>\n",
              "      <td>...</td>\n",
              "      <td>...</td>\n",
              "      <td>...</td>\n",
              "      <td>...</td>\n",
              "      <td>...</td>\n",
              "      <td>...</td>\n",
              "      <td>...</td>\n",
              "      <td>...</td>\n",
              "      <td>...</td>\n",
              "      <td>...</td>\n",
              "      <td>...</td>\n",
              "      <td>...</td>\n",
              "      <td>...</td>\n",
              "    </tr>\n",
              "    <tr>\n",
              "      <th>19107665</th>\n",
              "      <td>F</td>\n",
              "      <td>50대</td>\n",
              "      <td>경기 김포시</td>\n",
              "      <td>B</td>\n",
              "      <td>0</td>\n",
              "      <td>7671023</td>\n",
              "      <td>3170</td>\n",
              "      <td>19</td>\n",
              "      <td>2015-07-25</td>\n",
              "      <td>2015</td>\n",
              "      <td>7</td>\n",
              "      <td>22</td>\n",
              "      <td>교육/문화용품</td>\n",
              "      <td>전구</td>\n",
              "      <td>형광램프</td>\n",
              "      <td>5900</td>\n",
              "      <td>비내구재</td>\n",
              "    </tr>\n",
              "    <tr>\n",
              "      <th>19107736</th>\n",
              "      <td>F</td>\n",
              "      <td>60세이상</td>\n",
              "      <td>경기 김포시</td>\n",
              "      <td>B</td>\n",
              "      <td>0</td>\n",
              "      <td>7651580</td>\n",
              "      <td>13544</td>\n",
              "      <td>19</td>\n",
              "      <td>2015-02-26</td>\n",
              "      <td>2015</td>\n",
              "      <td>2</td>\n",
              "      <td>12</td>\n",
              "      <td>교육/문화용품</td>\n",
              "      <td>필기도구</td>\n",
              "      <td>연필깎이</td>\n",
              "      <td>750</td>\n",
              "      <td>비내구재</td>\n",
              "    </tr>\n",
              "    <tr>\n",
              "      <th>19107737</th>\n",
              "      <td>F</td>\n",
              "      <td>60세이상</td>\n",
              "      <td>경기 김포시</td>\n",
              "      <td>B</td>\n",
              "      <td>0</td>\n",
              "      <td>7651580</td>\n",
              "      <td>13544</td>\n",
              "      <td>19</td>\n",
              "      <td>2015-02-26</td>\n",
              "      <td>2015</td>\n",
              "      <td>2</td>\n",
              "      <td>12</td>\n",
              "      <td>교육/문화용품</td>\n",
              "      <td>오피스용품</td>\n",
              "      <td>접착용품</td>\n",
              "      <td>900</td>\n",
              "      <td>비내구재</td>\n",
              "    </tr>\n",
              "    <tr>\n",
              "      <th>19107738</th>\n",
              "      <td>F</td>\n",
              "      <td>60세이상</td>\n",
              "      <td>경기 김포시</td>\n",
              "      <td>B</td>\n",
              "      <td>0</td>\n",
              "      <td>7651580</td>\n",
              "      <td>13544</td>\n",
              "      <td>19</td>\n",
              "      <td>2015-02-26</td>\n",
              "      <td>2015</td>\n",
              "      <td>2</td>\n",
              "      <td>12</td>\n",
              "      <td>교육/문화용품</td>\n",
              "      <td>미술용품</td>\n",
              "      <td>물감류</td>\n",
              "      <td>15800</td>\n",
              "      <td>비내구재</td>\n",
              "    </tr>\n",
              "    <tr>\n",
              "      <th>19107739</th>\n",
              "      <td>F</td>\n",
              "      <td>60세이상</td>\n",
              "      <td>경기 김포시</td>\n",
              "      <td>B</td>\n",
              "      <td>0</td>\n",
              "      <td>7651580</td>\n",
              "      <td>13544</td>\n",
              "      <td>19</td>\n",
              "      <td>2015-02-26</td>\n",
              "      <td>2015</td>\n",
              "      <td>2</td>\n",
              "      <td>12</td>\n",
              "      <td>교육/문화용품</td>\n",
              "      <td>미술용품</td>\n",
              "      <td>채색도구</td>\n",
              "      <td>6000</td>\n",
              "      <td>비내구재</td>\n",
              "    </tr>\n",
              "  </tbody>\n",
              "</table>\n",
              "<p>28445983 rows × 17 columns</p>\n",
              "</div>"
            ],
            "text/plain": [
              "         성별    연령대    거주지역 제휴사  멤버십가입개수  ...     대분류명   중분류명  소분류명    구매금액   새분류\n",
              "0         F    50대  경기 김포시   A        0  ...  가구/인테리어   일용잡화  위생세제    1000  비내구재\n",
              "4         F    50대  경기 김포시   A        0  ...  가구/인테리어   일용잡화  위생세제    3950  비내구재\n",
              "7         F    50대  경기 김포시   A        0  ...  가구/인테리어   일용잡화  위생세제   20780  비내구재\n",
              "52        F    50대  인천 계양구   A        0  ...  가구/인테리어  침구/수예   L.B  492300   내구재\n",
              "53        F  60세이상  경기 김포시   A        0  ...  가구/인테리어  침구/수예  한실침구  198000   내구재\n",
              "...      ..    ...     ...  ..      ...  ...      ...    ...   ...     ...   ...\n",
              "19107665  F    50대  경기 김포시   B        0  ...  교육/문화용품     전구  형광램프    5900  비내구재\n",
              "19107736  F  60세이상  경기 김포시   B        0  ...  교육/문화용품   필기도구  연필깎이     750  비내구재\n",
              "19107737  F  60세이상  경기 김포시   B        0  ...  교육/문화용품  오피스용품  접착용품     900  비내구재\n",
              "19107738  F  60세이상  경기 김포시   B        0  ...  교육/문화용품   미술용품   물감류   15800  비내구재\n",
              "19107739  F  60세이상  경기 김포시   B        0  ...  교육/문화용품   미술용품  채색도구    6000  비내구재\n",
              "\n",
              "[28445983 rows x 17 columns]"
            ]
          },
          "execution_count": 3,
          "metadata": {},
          "output_type": "execute_result"
        }
      ],
      "source": [
        "New"
      ]
    },
    {
      "cell_type": "code",
      "execution_count": null,
      "metadata": {
        "id": "OXRaOBjdUvpH"
      },
      "outputs": [],
      "source": []
    }
  ],
  "metadata": {
    "accelerator": "GPU",
    "colab": {
      "authorship_tag": "ABX9TyMKibMZvxgsZtjSISiwygbo",
      "collapsed_sections": [],
      "include_colab_link": true,
      "machine_shape": "hm",
      "name": "권준기의 암살시도.ipynb",
      "provenance": []
    },
    "kernelspec": {
      "display_name": "Python 3",
      "name": "python3"
    },
    "language_info": {
      "name": "python"
    }
  },
  "nbformat": 4,
  "nbformat_minor": 0
}
