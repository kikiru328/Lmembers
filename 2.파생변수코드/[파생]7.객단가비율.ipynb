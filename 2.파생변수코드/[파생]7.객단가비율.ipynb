{
  "cells": [
    {
      "cell_type": "markdown",
      "metadata": {
        "colab_type": "text",
        "id": "view-in-github"
      },
      "source": [
        "<a href=\"https://colab.research.google.com/github/kikiru328/enterprise_analysis/blob/main/ApP_ratio.ipynb\" target=\"_parent\"><img src=\"https://colab.research.google.com/assets/colab-badge.svg\" alt=\"Open In Colab\"/></a>"
      ]
    },
    {
      "cell_type": "markdown",
      "metadata": {},
      "source": [
        "#### Introduction  \n",
        ">객단가 비율"
      ]
    },
    {
      "cell_type": "code",
      "execution_count": 2,
      "metadata": {
        "colab": {
          "base_uri": "https://localhost:8080/",
          "height": 241
        },
        "id": "YMHoyGxAvvvt",
        "outputId": "9682ab83-267e-46dd-c4d3-b23721bea00e"
      },
      "outputs": [
        {
          "name": "stdout",
          "output_type": "stream",
          "text": [
            "Drive already mounted at /content/drive; to attempt to forcibly remount, call drive.mount(\"/content/drive\", force_remount=True).\n"
          ]
        },
        {
          "ename": "FileExistsError",
          "evalue": "ignored",
          "output_type": "error",
          "traceback": [
            "\u001b[0;31m---------------------------------------------------------------------------\u001b[0m",
            "\u001b[0;31mFileExistsError\u001b[0m                           Traceback (most recent call last)",
            "\u001b[0;32m<ipython-input-2-917b5458b89a>\u001b[0m in \u001b[0;36m<module>\u001b[0;34m()\u001b[0m\n\u001b[1;32m      3\u001b[0m \u001b[0mdrive\u001b[0m\u001b[0;34m.\u001b[0m\u001b[0mmount\u001b[0m\u001b[0;34m(\u001b[0m\u001b[0;34m'/content/drive'\u001b[0m\u001b[0;34m)\u001b[0m\u001b[0;34m\u001b[0m\u001b[0;34m\u001b[0m\u001b[0m\n\u001b[1;32m      4\u001b[0m \u001b[0mmy_path\u001b[0m \u001b[0;34m=\u001b[0m \u001b[0;34m'/content/notebooks'\u001b[0m\u001b[0;34m\u001b[0m\u001b[0;34m\u001b[0m\u001b[0m\n\u001b[0;32m----> 5\u001b[0;31m \u001b[0mos\u001b[0m\u001b[0;34m.\u001b[0m\u001b[0msymlink\u001b[0m\u001b[0;34m(\u001b[0m\u001b[0;34m'/content/drive/My Drive/Colab Notebooks'\u001b[0m\u001b[0;34m,\u001b[0m \u001b[0mmy_path\u001b[0m\u001b[0;34m)\u001b[0m\u001b[0;34m\u001b[0m\u001b[0;34m\u001b[0m\u001b[0m\n\u001b[0m\u001b[1;32m      6\u001b[0m \u001b[0msys\u001b[0m\u001b[0;34m.\u001b[0m\u001b[0mpath\u001b[0m\u001b[0;34m.\u001b[0m\u001b[0minsert\u001b[0m\u001b[0;34m(\u001b[0m\u001b[0;36m0\u001b[0m\u001b[0;34m,\u001b[0m\u001b[0mmy_path\u001b[0m\u001b[0;34m)\u001b[0m\u001b[0;34m\u001b[0m\u001b[0;34m\u001b[0m\u001b[0m\n",
            "\u001b[0;31mFileExistsError\u001b[0m: [Errno 17] File exists: '/content/drive/My Drive/Colab Notebooks' -> '/content/notebooks'"
          ]
        }
      ],
      "source": [
        "import os, sys\n",
        "from google.colab import drive\n",
        "drive.mount('/content/drive')\n",
        "my_path = '/content/notebooks'\n",
        "os.symlink('/content/drive/My Drive/Colab Notebooks', my_path)\n",
        "sys.path.insert(0,my_path)\n"
      ]
    },
    {
      "cell_type": "code",
      "execution_count": 3,
      "metadata": {
        "colab": {
          "base_uri": "https://localhost:8080/"
        },
        "id": "VjEX1T2Ovw87",
        "outputId": "1d5123bb-1b4d-4c2d-98af-56adfe926a7e"
      },
      "outputs": [
        {
          "name": "stdout",
          "output_type": "stream",
          "text": [
            "/content/drive/My Drive/Colab Notebooks\n"
          ]
        }
      ],
      "source": [
        "#  Directory 변경 (모듈이용)\n",
        "%pwd\n",
        "%cd '../content/notebooks'\n",
        "\n",
        "# module import\n",
        "## Data Load\n",
        "from pickle5 import pickle \n",
        "\n",
        "## Basic module\n",
        "import pandas as pd\n",
        "import numpy as np\n",
        "import datetime as dt\n",
        "import seaborn as sns\n",
        "import matplotlib.pyplot as plt\n",
        "plt.rc('font', family='NanumBarunGothic')\n",
        "\n",
        "import warnings\n",
        "warnings.filterwarnings('ignore')"
      ]
    },
    {
      "cell_type": "code",
      "execution_count": 4,
      "metadata": {
        "id": "oDJgjuC6wIoN"
      },
      "outputs": [],
      "source": [
        "with open('/content/drive/MyDrive/공유문서/1차 프로젝트/5조/data/EDA/기존_purprd_cust.pkl','rb') as file:\n",
        "  df = pickle.load(file)\n"
      ]
    },
    {
      "cell_type": "code",
      "execution_count": 11,
      "metadata": {
        "id": "pIvHM8sx7Pmx"
      },
      "outputs": [],
      "source": [
        "df_1 = df[(df['구매년도']==2014) & (df['구매월']>=1) & (df['구매월']<=6)]\n",
        "df_2 = df[(df['구매년도']==2014)&(df['구매월']>=7) & (df['구매월']<=12)]\n",
        "df_3 = df[(df['구매년도']==2015)&(df['구매월']>=1) & (df['구매월']<=6)]\n",
        "df_4 = df[(df['구매년도']==2015)&(df['구매월']>=7) & (df['구매월']<=12)]\n",
        "\n",
        "\n",
        "\n",
        "def countpur(df,a):\n",
        "  countpur = df[['고객번호','영수증번호','대분류명','구매금액']]\n",
        "  countpur = countpur.groupby(['고객번호','영수증번호','대분류명']).sum()\n",
        "  countpur = countpur.reset_index()\n",
        "  countpur = countpur.groupby(['영수증번호','고객번호']).sum()\n",
        "  countpur = countpur.reset_index()\n",
        "  countpur['거래횟수'] = 1 \n",
        "  countpur = countpur.groupby('고객번호').sum()\n",
        "  countpur = countpur.drop('영수증번호',axis=1)\n",
        "  countpur['객단가'] = countpur['구매금액'] / countpur['거래횟수']\n",
        "  countpur = countpur.drop(['구매금액','거래횟수'],axis=1)\n",
        "  cols = list(countpur.columns)\n",
        "  for i in cols:\n",
        "    countpur[f'{a}_{i}'] = countpur[i]\n",
        "  countpur = countpur.drop(cols,axis=1)\n",
        "  return countpur\n",
        "\n",
        "H1 = countpur(df_1,'H1')\n",
        "H2 = countpur(df_2,'H2')\n",
        "H3 = countpur(df_3,'H3')\n",
        "H4 = countpur(df_4,'H4') \n",
        "\n",
        "def train_df(a,b,c):\n",
        "  A = pd.concat([a,b],axis=1)\n",
        "  train = pd.concat([A,c],axis=1)\n",
        "  return train\n",
        "\n",
        "train = train_df(H1,H2,H3)\n",
        "\n",
        "def test_df(a,b,c,d):\n",
        "    A = pd.concat([a,b],axis=1)\n",
        "    train = pd.concat([A,c],axis=1)\n",
        "    test = pd.concat([train,d],axis=1)\n",
        "    return test\n",
        "\n",
        "test = test_df(H1,H2,H3,H4)  "
      ]
    },
    {
      "cell_type": "code",
      "execution_count": 12,
      "metadata": {
        "colab": {
          "base_uri": "https://localhost:8080/",
          "height": 448
        },
        "id": "jx5WBWtY7oNZ",
        "outputId": "e82ceaf0-43fe-4d64-ad78-be0ef5dbd66e"
      },
      "outputs": [
        {
          "data": {
            "text/html": [
              "<div>\n",
              "<style scoped>\n",
              "    .dataframe tbody tr th:only-of-type {\n",
              "        vertical-align: middle;\n",
              "    }\n",
              "\n",
              "    .dataframe tbody tr th {\n",
              "        vertical-align: top;\n",
              "    }\n",
              "\n",
              "    .dataframe thead th {\n",
              "        text-align: right;\n",
              "    }\n",
              "</style>\n",
              "<table border=\"1\" class=\"dataframe\">\n",
              "  <thead>\n",
              "    <tr style=\"text-align: right;\">\n",
              "      <th></th>\n",
              "      <th>H1_객단가</th>\n",
              "      <th>H2_객단가</th>\n",
              "      <th>H3_객단가</th>\n",
              "    </tr>\n",
              "    <tr>\n",
              "      <th>고객번호</th>\n",
              "      <th></th>\n",
              "      <th></th>\n",
              "      <th></th>\n",
              "    </tr>\n",
              "  </thead>\n",
              "  <tbody>\n",
              "    <tr>\n",
              "      <th>1</th>\n",
              "      <td>125316.698113</td>\n",
              "      <td>155782.246575</td>\n",
              "      <td>96747.918919</td>\n",
              "    </tr>\n",
              "    <tr>\n",
              "      <th>2</th>\n",
              "      <td>129378.882979</td>\n",
              "      <td>131270.059880</td>\n",
              "      <td>167419.337349</td>\n",
              "    </tr>\n",
              "    <tr>\n",
              "      <th>3</th>\n",
              "      <td>6650.117188</td>\n",
              "      <td>6205.678571</td>\n",
              "      <td>6300.851064</td>\n",
              "    </tr>\n",
              "    <tr>\n",
              "      <th>4</th>\n",
              "      <td>36803.693431</td>\n",
              "      <td>40547.714286</td>\n",
              "      <td>27290.574627</td>\n",
              "    </tr>\n",
              "    <tr>\n",
              "      <th>5</th>\n",
              "      <td>24818.863636</td>\n",
              "      <td>29676.400000</td>\n",
              "      <td>36233.703704</td>\n",
              "    </tr>\n",
              "  </tbody>\n",
              "</table>\n",
              "</div>"
            ],
            "text/plain": [
              "             H1_객단가         H2_객단가         H3_객단가\n",
              "고객번호                                             \n",
              "1     125316.698113  155782.246575   96747.918919\n",
              "2     129378.882979  131270.059880  167419.337349\n",
              "3       6650.117188    6205.678571    6300.851064\n",
              "4      36803.693431   40547.714286   27290.574627\n",
              "5      24818.863636   29676.400000   36233.703704"
            ]
          },
          "metadata": {},
          "output_type": "display_data"
        },
        {
          "data": {
            "text/html": [
              "<div>\n",
              "<style scoped>\n",
              "    .dataframe tbody tr th:only-of-type {\n",
              "        vertical-align: middle;\n",
              "    }\n",
              "\n",
              "    .dataframe tbody tr th {\n",
              "        vertical-align: top;\n",
              "    }\n",
              "\n",
              "    .dataframe thead th {\n",
              "        text-align: right;\n",
              "    }\n",
              "</style>\n",
              "<table border=\"1\" class=\"dataframe\">\n",
              "  <thead>\n",
              "    <tr style=\"text-align: right;\">\n",
              "      <th></th>\n",
              "      <th>H1_객단가</th>\n",
              "      <th>H2_객단가</th>\n",
              "      <th>H3_객단가</th>\n",
              "      <th>H4_객단가</th>\n",
              "    </tr>\n",
              "    <tr>\n",
              "      <th>고객번호</th>\n",
              "      <th></th>\n",
              "      <th></th>\n",
              "      <th></th>\n",
              "      <th></th>\n",
              "    </tr>\n",
              "  </thead>\n",
              "  <tbody>\n",
              "    <tr>\n",
              "      <th>1</th>\n",
              "      <td>125316.698113</td>\n",
              "      <td>155782.246575</td>\n",
              "      <td>96747.918919</td>\n",
              "      <td>111038.288136</td>\n",
              "    </tr>\n",
              "    <tr>\n",
              "      <th>2</th>\n",
              "      <td>129378.882979</td>\n",
              "      <td>131270.059880</td>\n",
              "      <td>167419.337349</td>\n",
              "      <td>166734.322581</td>\n",
              "    </tr>\n",
              "    <tr>\n",
              "      <th>3</th>\n",
              "      <td>6650.117188</td>\n",
              "      <td>6205.678571</td>\n",
              "      <td>6300.851064</td>\n",
              "      <td>6791.180000</td>\n",
              "    </tr>\n",
              "    <tr>\n",
              "      <th>4</th>\n",
              "      <td>36803.693431</td>\n",
              "      <td>40547.714286</td>\n",
              "      <td>27290.574627</td>\n",
              "      <td>23804.184713</td>\n",
              "    </tr>\n",
              "    <tr>\n",
              "      <th>5</th>\n",
              "      <td>24818.863636</td>\n",
              "      <td>29676.400000</td>\n",
              "      <td>36233.703704</td>\n",
              "      <td>52325.200000</td>\n",
              "    </tr>\n",
              "  </tbody>\n",
              "</table>\n",
              "</div>"
            ],
            "text/plain": [
              "             H1_객단가         H2_객단가         H3_객단가         H4_객단가\n",
              "고객번호                                                            \n",
              "1     125316.698113  155782.246575   96747.918919  111038.288136\n",
              "2     129378.882979  131270.059880  167419.337349  166734.322581\n",
              "3       6650.117188    6205.678571    6300.851064    6791.180000\n",
              "4      36803.693431   40547.714286   27290.574627   23804.184713\n",
              "5      24818.863636   29676.400000   36233.703704   52325.200000"
            ]
          },
          "metadata": {},
          "output_type": "display_data"
        }
      ],
      "source": [
        "display(train.head())\n",
        "display(test.head())"
      ]
    },
    {
      "cell_type": "code",
      "execution_count": 14,
      "metadata": {
        "id": "VAgniQgj9WuX"
      },
      "outputs": [],
      "source": [
        "with open('/content/drive/MyDrive/공유문서/1차 프로젝트/5조/진짜진짜최종/123(train)/객단가123.pkl', 'wb') as train_save:\n",
        "  pickle.dump(train,train_save)\n",
        "with open('/content/drive/MyDrive/공유문서/1차 프로젝트/5조/진짜진짜최종/4(test)/객단가4.pkl', 'wb') as test_save:\n",
        "  pickle.dump(test,test_save)"
      ]
    },
    {
      "cell_type": "code",
      "execution_count": 15,
      "metadata": {
        "id": "klkzLd_IUDiT"
      },
      "outputs": [],
      "source": [
        "with open('/content/drive/MyDrive/공유문서/1차 프로젝트/5조/진짜진짜최종/123(train)/객단가123.pkl', 'rb') as train_save:\n",
        "  tr = pickle.load(train_save)\n",
        "with open('/content/drive/MyDrive/공유문서/1차 프로젝트/5조/진짜진짜최종/4(test)/객단가4.pkl', 'rb') as test_save:\n",
        "  tt = pickle.load(test_save)"
      ]
    },
    {
      "cell_type": "code",
      "execution_count": 16,
      "metadata": {
        "colab": {
          "base_uri": "https://localhost:8080/",
          "height": 445
        },
        "id": "Vukx7arBUPkz",
        "outputId": "483983dd-98d2-4464-f727-a67c3c6f7f2c"
      },
      "outputs": [
        {
          "data": {
            "text/html": [
              "<div>\n",
              "<style scoped>\n",
              "    .dataframe tbody tr th:only-of-type {\n",
              "        vertical-align: middle;\n",
              "    }\n",
              "\n",
              "    .dataframe tbody tr th {\n",
              "        vertical-align: top;\n",
              "    }\n",
              "\n",
              "    .dataframe thead th {\n",
              "        text-align: right;\n",
              "    }\n",
              "</style>\n",
              "<table border=\"1\" class=\"dataframe\">\n",
              "  <thead>\n",
              "    <tr style=\"text-align: right;\">\n",
              "      <th></th>\n",
              "      <th>H1_객단가</th>\n",
              "      <th>H2_객단가</th>\n",
              "      <th>H3_객단가</th>\n",
              "    </tr>\n",
              "    <tr>\n",
              "      <th>고객번호</th>\n",
              "      <th></th>\n",
              "      <th></th>\n",
              "      <th></th>\n",
              "    </tr>\n",
              "  </thead>\n",
              "  <tbody>\n",
              "    <tr>\n",
              "      <th>1</th>\n",
              "      <td>125316.698113</td>\n",
              "      <td>155782.246575</td>\n",
              "      <td>96747.918919</td>\n",
              "    </tr>\n",
              "    <tr>\n",
              "      <th>2</th>\n",
              "      <td>129378.882979</td>\n",
              "      <td>131270.059880</td>\n",
              "      <td>167419.337349</td>\n",
              "    </tr>\n",
              "    <tr>\n",
              "      <th>3</th>\n",
              "      <td>6650.117188</td>\n",
              "      <td>6205.678571</td>\n",
              "      <td>6300.851064</td>\n",
              "    </tr>\n",
              "    <tr>\n",
              "      <th>4</th>\n",
              "      <td>36803.693431</td>\n",
              "      <td>40547.714286</td>\n",
              "      <td>27290.574627</td>\n",
              "    </tr>\n",
              "    <tr>\n",
              "      <th>5</th>\n",
              "      <td>24818.863636</td>\n",
              "      <td>29676.400000</td>\n",
              "      <td>36233.703704</td>\n",
              "    </tr>\n",
              "    <tr>\n",
              "      <th>...</th>\n",
              "      <td>...</td>\n",
              "      <td>...</td>\n",
              "      <td>...</td>\n",
              "    </tr>\n",
              "    <tr>\n",
              "      <th>19356</th>\n",
              "      <td>14180.000000</td>\n",
              "      <td>13357.304348</td>\n",
              "      <td>12309.754386</td>\n",
              "    </tr>\n",
              "    <tr>\n",
              "      <th>19357</th>\n",
              "      <td>13135.714286</td>\n",
              "      <td>18434.528090</td>\n",
              "      <td>15073.980198</td>\n",
              "    </tr>\n",
              "    <tr>\n",
              "      <th>19359</th>\n",
              "      <td>8638.000000</td>\n",
              "      <td>6214.140097</td>\n",
              "      <td>5544.635762</td>\n",
              "    </tr>\n",
              "    <tr>\n",
              "      <th>19360</th>\n",
              "      <td>18402.500000</td>\n",
              "      <td>16480.320000</td>\n",
              "      <td>16047.045455</td>\n",
              "    </tr>\n",
              "    <tr>\n",
              "      <th>19364</th>\n",
              "      <td>56456.111111</td>\n",
              "      <td>47488.521127</td>\n",
              "      <td>23838.000000</td>\n",
              "    </tr>\n",
              "  </tbody>\n",
              "</table>\n",
              "<p>19085 rows × 3 columns</p>\n",
              "</div>"
            ],
            "text/plain": [
              "              H1_객단가         H2_객단가         H3_객단가\n",
              "고객번호                                              \n",
              "1      125316.698113  155782.246575   96747.918919\n",
              "2      129378.882979  131270.059880  167419.337349\n",
              "3        6650.117188    6205.678571    6300.851064\n",
              "4       36803.693431   40547.714286   27290.574627\n",
              "5       24818.863636   29676.400000   36233.703704\n",
              "...              ...            ...            ...\n",
              "19356   14180.000000   13357.304348   12309.754386\n",
              "19357   13135.714286   18434.528090   15073.980198\n",
              "19359    8638.000000    6214.140097    5544.635762\n",
              "19360   18402.500000   16480.320000   16047.045455\n",
              "19364   56456.111111   47488.521127   23838.000000\n",
              "\n",
              "[19085 rows x 3 columns]"
            ]
          },
          "execution_count": 16,
          "metadata": {},
          "output_type": "execute_result"
        }
      ],
      "source": [
        "tr"
      ]
    },
    {
      "cell_type": "code",
      "execution_count": 17,
      "metadata": {
        "colab": {
          "base_uri": "https://localhost:8080/",
          "height": 445
        },
        "id": "T1deNAeiUQPK",
        "outputId": "def45ab1-0ff9-49b3-9426-8c7d367f9440"
      },
      "outputs": [
        {
          "data": {
            "text/html": [
              "<div>\n",
              "<style scoped>\n",
              "    .dataframe tbody tr th:only-of-type {\n",
              "        vertical-align: middle;\n",
              "    }\n",
              "\n",
              "    .dataframe tbody tr th {\n",
              "        vertical-align: top;\n",
              "    }\n",
              "\n",
              "    .dataframe thead th {\n",
              "        text-align: right;\n",
              "    }\n",
              "</style>\n",
              "<table border=\"1\" class=\"dataframe\">\n",
              "  <thead>\n",
              "    <tr style=\"text-align: right;\">\n",
              "      <th></th>\n",
              "      <th>H1_객단가</th>\n",
              "      <th>H2_객단가</th>\n",
              "      <th>H3_객단가</th>\n",
              "      <th>H4_객단가</th>\n",
              "    </tr>\n",
              "    <tr>\n",
              "      <th>고객번호</th>\n",
              "      <th></th>\n",
              "      <th></th>\n",
              "      <th></th>\n",
              "      <th></th>\n",
              "    </tr>\n",
              "  </thead>\n",
              "  <tbody>\n",
              "    <tr>\n",
              "      <th>1</th>\n",
              "      <td>125316.698113</td>\n",
              "      <td>155782.246575</td>\n",
              "      <td>96747.918919</td>\n",
              "      <td>111038.288136</td>\n",
              "    </tr>\n",
              "    <tr>\n",
              "      <th>2</th>\n",
              "      <td>129378.882979</td>\n",
              "      <td>131270.059880</td>\n",
              "      <td>167419.337349</td>\n",
              "      <td>166734.322581</td>\n",
              "    </tr>\n",
              "    <tr>\n",
              "      <th>3</th>\n",
              "      <td>6650.117188</td>\n",
              "      <td>6205.678571</td>\n",
              "      <td>6300.851064</td>\n",
              "      <td>6791.180000</td>\n",
              "    </tr>\n",
              "    <tr>\n",
              "      <th>4</th>\n",
              "      <td>36803.693431</td>\n",
              "      <td>40547.714286</td>\n",
              "      <td>27290.574627</td>\n",
              "      <td>23804.184713</td>\n",
              "    </tr>\n",
              "    <tr>\n",
              "      <th>5</th>\n",
              "      <td>24818.863636</td>\n",
              "      <td>29676.400000</td>\n",
              "      <td>36233.703704</td>\n",
              "      <td>52325.200000</td>\n",
              "    </tr>\n",
              "    <tr>\n",
              "      <th>...</th>\n",
              "      <td>...</td>\n",
              "      <td>...</td>\n",
              "      <td>...</td>\n",
              "      <td>...</td>\n",
              "    </tr>\n",
              "    <tr>\n",
              "      <th>19356</th>\n",
              "      <td>14180.000000</td>\n",
              "      <td>13357.304348</td>\n",
              "      <td>12309.754386</td>\n",
              "      <td>8224.956081</td>\n",
              "    </tr>\n",
              "    <tr>\n",
              "      <th>19357</th>\n",
              "      <td>13135.714286</td>\n",
              "      <td>18434.528090</td>\n",
              "      <td>15073.980198</td>\n",
              "      <td>12412.569061</td>\n",
              "    </tr>\n",
              "    <tr>\n",
              "      <th>19359</th>\n",
              "      <td>8638.000000</td>\n",
              "      <td>6214.140097</td>\n",
              "      <td>5544.635762</td>\n",
              "      <td>7482.054795</td>\n",
              "    </tr>\n",
              "    <tr>\n",
              "      <th>19360</th>\n",
              "      <td>18402.500000</td>\n",
              "      <td>16480.320000</td>\n",
              "      <td>16047.045455</td>\n",
              "      <td>20606.046512</td>\n",
              "    </tr>\n",
              "    <tr>\n",
              "      <th>19364</th>\n",
              "      <td>56456.111111</td>\n",
              "      <td>47488.521127</td>\n",
              "      <td>23838.000000</td>\n",
              "      <td>38470.270270</td>\n",
              "    </tr>\n",
              "  </tbody>\n",
              "</table>\n",
              "<p>19085 rows × 4 columns</p>\n",
              "</div>"
            ],
            "text/plain": [
              "              H1_객단가         H2_객단가         H3_객단가         H4_객단가\n",
              "고객번호                                                             \n",
              "1      125316.698113  155782.246575   96747.918919  111038.288136\n",
              "2      129378.882979  131270.059880  167419.337349  166734.322581\n",
              "3        6650.117188    6205.678571    6300.851064    6791.180000\n",
              "4       36803.693431   40547.714286   27290.574627   23804.184713\n",
              "5       24818.863636   29676.400000   36233.703704   52325.200000\n",
              "...              ...            ...            ...            ...\n",
              "19356   14180.000000   13357.304348   12309.754386    8224.956081\n",
              "19357   13135.714286   18434.528090   15073.980198   12412.569061\n",
              "19359    8638.000000    6214.140097    5544.635762    7482.054795\n",
              "19360   18402.500000   16480.320000   16047.045455   20606.046512\n",
              "19364   56456.111111   47488.521127   23838.000000   38470.270270\n",
              "\n",
              "[19085 rows x 4 columns]"
            ]
          },
          "execution_count": 17,
          "metadata": {},
          "output_type": "execute_result"
        }
      ],
      "source": [
        "tt"
      ]
    },
    {
      "cell_type": "code",
      "execution_count": null,
      "metadata": {
        "id": "mwMeol5tUQbo"
      },
      "outputs": [],
      "source": []
    }
  ],
  "metadata": {
    "accelerator": "GPU",
    "colab": {
      "authorship_tag": "ABX9TyMILhI4UrxpWjvO8BjXHIDo",
      "collapsed_sections": [],
      "include_colab_link": true,
      "machine_shape": "hm",
      "name": "ApP_ratio.ipynb",
      "provenance": []
    },
    "kernelspec": {
      "display_name": "Python 3",
      "name": "python3"
    },
    "language_info": {
      "name": "python"
    }
  },
  "nbformat": 4,
  "nbformat_minor": 0
}
